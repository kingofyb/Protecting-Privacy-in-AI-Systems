{
 "cells": [
  {
   "cell_type": "code",
   "execution_count": 2,
   "id": "c3426ece-ad6a-4e6d-96d1-b53e3a96d4b9",
   "metadata": {},
   "outputs": [],
   "source": [
    "%matplotlib inline\n",
    "import matplotlib.pyplot as plt\n",
    "\n",
    "import pandas as pd\n",
    "import numpy as np\n",
    "\n",
    "adult = pd.read_csv(\"adult_with_pii.csv\")\n",
    "def laplace_mech(v, sensitivity, epsilon):\n",
    "    return v + np.random.laplace(loc=0, scale=sensitivity / epsilon)\n",
    "def pct_error(orig, priv):\n",
    "    return np.abs(orig - priv)/orig * 100.0"
   ]
  },
  {
   "cell_type": "markdown",
   "id": "e48bf76e-343e-4d40-9c30-374138ba786d",
   "metadata": {},
   "source": [
    "指数机制"
   ]
  },
  {
   "cell_type": "code",
   "execution_count": 3,
   "id": "3f46fa9f-bd1f-4a6a-b8a7-10de5ca51465",
   "metadata": {},
   "outputs": [
    {
     "data": {
      "text/plain": [
       "10.683"
      ]
     },
     "execution_count": 3,
     "metadata": {},
     "output_type": "execute_result"
    }
   ],
   "source": [
    "options = adult['Marital Status'].unique()\n",
    "\n",
    "def score(data, option):\n",
    "    return data.value_counts()[option]/1000\n",
    "\n",
    "score(adult['Marital Status'], 'Never-married')"
   ]
  },
  {
   "cell_type": "code",
   "execution_count": 4,
   "id": "cd11bcef-857e-4097-a011-dcda01e0376f",
   "metadata": {},
   "outputs": [
    {
     "data": {
      "text/plain": [
       "'Married-civ-spouse'"
      ]
     },
     "execution_count": 4,
     "metadata": {},
     "output_type": "execute_result"
    }
   ],
   "source": [
    "def exponential(x, R, u, sensitivity, epsilon):\n",
    "    # 计算R中每个回复的分数\n",
    "    scores = [u(x, r) for r in R]\n",
    "    \n",
    "    # 根据分数计算每个回复的输出概率\n",
    "    probabilities = [np.exp(epsilon * score / (2 * sensitivity)) for score in scores]\n",
    "    \n",
    "    # 对概率进行归一化处理，使概率和等于1\n",
    "    probabilities = probabilities / np.linalg.norm(probabilities, ord=1)\n",
    "\n",
    "    # 根据概率分布选择回复结果\n",
    "    return np.random.choice(R, 1, p=probabilities)[0]\n",
    "\n",
    "exponential(adult['Marital Status'], options, score, 1, 1)"
   ]
  },
  {
   "cell_type": "code",
   "execution_count": 5,
   "id": "b8612383-272e-45b3-8728-38ea406b5a74",
   "metadata": {},
   "outputs": [
    {
     "data": {
      "text/plain": [
       "Married-civ-spouse    181\n",
       "Never-married          18\n",
       "Divorced                1\n",
       "Name: count, dtype: int64"
      ]
     },
     "execution_count": 5,
     "metadata": {},
     "output_type": "execute_result"
    }
   ],
   "source": [
    "r = [exponential(adult['Marital Status'], options, score, 1, 1) for i in range(200)]\n",
    "pd.Series(r).value_counts()"
   ]
  },
  {
   "cell_type": "markdown",
   "id": "5b42cabe-44e1-4e0c-a7c3-d97b7627d02c",
   "metadata": {},
   "source": [
    "报告噪声最大值"
   ]
  },
  {
   "cell_type": "code",
   "execution_count": 6,
   "id": "6b3d4a1f-3b14-4028-89d4-c414c0b405e8",
   "metadata": {},
   "outputs": [
    {
     "data": {
      "text/plain": [
       "'Married-civ-spouse'"
      ]
     },
     "execution_count": 6,
     "metadata": {},
     "output_type": "execute_result"
    }
   ],
   "source": [
    "def report_noisy_max(x, R, u, sensitivity, epsilon):\n",
    "    # 计算R中每个回复的分数\n",
    "    scores = [u(x, r) for r in R]\n",
    "\n",
    "    # 为每个分数增加噪声\n",
    "    noisy_scores = [laplace_mech(score, sensitivity, epsilon) for score in scores]\n",
    "\n",
    "    # 找到最大分数对应的回复索引号\n",
    "    max_idx = np.argmax(noisy_scores)\n",
    "    \n",
    "    # 返回此索引号对应的回复\n",
    "    return R[max_idx]\n",
    "\n",
    "report_noisy_max(adult['Marital Status'], options, score, 1, 1)"
   ]
  },
  {
   "cell_type": "code",
   "execution_count": 7,
   "id": "bd19da58-9bb5-4a6f-8c37-c6f26e3e30bf",
   "metadata": {},
   "outputs": [
    {
     "data": {
      "text/plain": [
       "Married-civ-spouse    193\n",
       "Never-married           7\n",
       "Name: count, dtype: int64"
      ]
     },
     "execution_count": 7,
     "metadata": {},
     "output_type": "execute_result"
    }
   ],
   "source": [
    "r = [report_noisy_max(adult['Marital Status'], options, score, 1, 1) for i in range(200)]\n",
    "pd.Series(r).value_counts()"
   ]
  },
  {
   "cell_type": "markdown",
   "id": "63a7ad3f-5b45-4f77-a51d-044a223b533e",
   "metadata": {},
   "source": [
    "指数机制是差分隐私的基本机制"
   ]
  },
  {
   "cell_type": "code",
   "execution_count": null,
   "id": "4a692e8b-8da0-472b-b424-afc385acd64f",
   "metadata": {},
   "outputs": [],
   "source": []
  }
 ],
 "metadata": {
  "kernelspec": {
   "display_name": "Python 3 (ipykernel)",
   "language": "python",
   "name": "python3"
  },
  "language_info": {
   "codemirror_mode": {
    "name": "ipython",
    "version": 3
   },
   "file_extension": ".py",
   "mimetype": "text/x-python",
   "name": "python",
   "nbconvert_exporter": "python",
   "pygments_lexer": "ipython3",
   "version": "3.11.7"
  }
 },
 "nbformat": 4,
 "nbformat_minor": 5
}
