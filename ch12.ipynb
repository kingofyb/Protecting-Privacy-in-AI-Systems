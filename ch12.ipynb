{
 "cells": [
  {
   "cell_type": "code",
   "execution_count": 1,
   "id": "f530532d-e743-4e92-ba69-153526b78166",
   "metadata": {},
   "outputs": [],
   "source": [
    "%matplotlib inline\n",
    "import matplotlib.pyplot as plt\n",
    "# plt.style.use('seaborn-whitegrid')\n",
    "plt.style.use('fivethirtyeight')\n",
    "import pandas as pd\n",
    "import numpy as np\n",
    "from collections import defaultdict\n",
    "\n",
    "# 一些有用的工具函数\n",
    "\n",
    "def laplace_mech(v, sensitivity, epsilon):\n",
    "    return v + np.random.laplace(loc=0, scale=sensitivity / epsilon)\n",
    "\n",
    "def gaussian_mech(v, sensitivity, epsilon, delta):\n",
    "    return v + np.random.normal(loc=0, scale=sensitivity * np.sqrt(2*np.log(1.25/delta)) / epsilon)\n",
    "\n",
    "def gaussian_mech_vec(v, sensitivity, epsilon, delta):\n",
    "    return v + np.random.normal(loc=0, scale=sensitivity * np.sqrt(2*np.log(1.25/delta)) / epsilon, size=len(v))\n",
    "\n",
    "def pct_error(orig, priv):\n",
    "    return np.abs(orig - priv)/orig * 100.0\n",
    "\n",
    "def z_clip(xs, b):\n",
    "    return [min(x, b) for x in xs]\n",
    "\n",
    "def g_clip(v):\n",
    "    n = np.linalg.norm(v, ord=2)\n",
    "    if n > 1:\n",
    "        return v / n\n",
    "    else:\n",
    "        return v"
   ]
  },
  {
   "cell_type": "markdown",
   "id": "f42a842b-160b-484c-a5f8-761e6259345d",
   "metadata": {},
   "source": [
    "使用Scikit-Learn实现逻辑回归"
   ]
  },
  {
   "cell_type": "code",
   "execution_count": 2,
   "id": "286d1573-0b63-4e1b-b00a-deddc0a946f2",
   "metadata": {},
   "outputs": [],
   "source": [
    "X = np.load('adult_processed_x.npy')\n",
    "y = np.load('adult_processed_y.npy')"
   ]
  },
  {
   "cell_type": "markdown",
   "id": "8a50c8d5-0083-4425-8f09-4e8160d4e728",
   "metadata": {},
   "source": [
    "当要训练一个模型时，我们从所有可用的数据中选择一些数据来构造一组训练样本（如前所述），但我们也会留出一些数据作为测试样本。一旦训练完模型，我们肯定想要知道该模型在非训练样本上的表现如何。如果一个模型在未知的新样本上表现很好，我们称其泛化能力很好。一个泛化能力不足的模型，我们称其在训练数据上发生了过拟合。\n",
    "\n",
    "我们使用测试样本来测试模型的泛化能力。由于我们事先已知测试样本的标签，我们可以让模型对每个测试样本进行分类，并比较预测标签和真实标签的结果，以测试模型的泛化能力。我们将把数据集切分为训练集和测试集。训练集包含80%的样本，而测试集包含其余20%的样本。"
   ]
  },
  {
   "cell_type": "code",
   "execution_count": 3,
   "id": "2aa3ec5d-6eac-4f31-acd8-6b8f5ad97099",
   "metadata": {},
   "outputs": [
    {
     "data": {
      "text/plain": [
       "(9044,)"
      ]
     },
     "execution_count": 3,
     "metadata": {},
     "output_type": "execute_result"
    }
   ],
   "source": [
    "training_size = int(X.shape[0] * 0.8)\n",
    "\n",
    "X_train = X[:training_size]\n",
    "X_test = X[training_size:]\n",
    "\n",
    "y_train = y[:training_size]\n",
    "y_test = y[training_size:]\n",
    "\n",
    "y_test.shape"
   ]
  },
  {
   "cell_type": "markdown",
   "id": "3292898c-0710-4fad-ac53-d914d2dc686f",
   "metadata": {},
   "source": [
    "构建一个二分类器的简单方法是使用逻辑回归（Logistic Regression）。scikit-learn库包含了一个实现逻辑回归的内置模块，名为LogisticRegression。通过调用此内置模块，很容易应用我们的数据构建二分类模型。"
   ]
  },
  {
   "cell_type": "code",
   "execution_count": 4,
   "id": "42135e7e-d550-4cb3-82e5-90a0ad49ade7",
   "metadata": {},
   "outputs": [
    {
     "data": {
      "text/html": [
       "<style>#sk-container-id-1 {color: black;background-color: white;}#sk-container-id-1 pre{padding: 0;}#sk-container-id-1 div.sk-toggleable {background-color: white;}#sk-container-id-1 label.sk-toggleable__label {cursor: pointer;display: block;width: 100%;margin-bottom: 0;padding: 0.3em;box-sizing: border-box;text-align: center;}#sk-container-id-1 label.sk-toggleable__label-arrow:before {content: \"▸\";float: left;margin-right: 0.25em;color: #696969;}#sk-container-id-1 label.sk-toggleable__label-arrow:hover:before {color: black;}#sk-container-id-1 div.sk-estimator:hover label.sk-toggleable__label-arrow:before {color: black;}#sk-container-id-1 div.sk-toggleable__content {max-height: 0;max-width: 0;overflow: hidden;text-align: left;background-color: #f0f8ff;}#sk-container-id-1 div.sk-toggleable__content pre {margin: 0.2em;color: black;border-radius: 0.25em;background-color: #f0f8ff;}#sk-container-id-1 input.sk-toggleable__control:checked~div.sk-toggleable__content {max-height: 200px;max-width: 100%;overflow: auto;}#sk-container-id-1 input.sk-toggleable__control:checked~label.sk-toggleable__label-arrow:before {content: \"▾\";}#sk-container-id-1 div.sk-estimator input.sk-toggleable__control:checked~label.sk-toggleable__label {background-color: #d4ebff;}#sk-container-id-1 div.sk-label input.sk-toggleable__control:checked~label.sk-toggleable__label {background-color: #d4ebff;}#sk-container-id-1 input.sk-hidden--visually {border: 0;clip: rect(1px 1px 1px 1px);clip: rect(1px, 1px, 1px, 1px);height: 1px;margin: -1px;overflow: hidden;padding: 0;position: absolute;width: 1px;}#sk-container-id-1 div.sk-estimator {font-family: monospace;background-color: #f0f8ff;border: 1px dotted black;border-radius: 0.25em;box-sizing: border-box;margin-bottom: 0.5em;}#sk-container-id-1 div.sk-estimator:hover {background-color: #d4ebff;}#sk-container-id-1 div.sk-parallel-item::after {content: \"\";width: 100%;border-bottom: 1px solid gray;flex-grow: 1;}#sk-container-id-1 div.sk-label:hover label.sk-toggleable__label {background-color: #d4ebff;}#sk-container-id-1 div.sk-serial::before {content: \"\";position: absolute;border-left: 1px solid gray;box-sizing: border-box;top: 0;bottom: 0;left: 50%;z-index: 0;}#sk-container-id-1 div.sk-serial {display: flex;flex-direction: column;align-items: center;background-color: white;padding-right: 0.2em;padding-left: 0.2em;position: relative;}#sk-container-id-1 div.sk-item {position: relative;z-index: 1;}#sk-container-id-1 div.sk-parallel {display: flex;align-items: stretch;justify-content: center;background-color: white;position: relative;}#sk-container-id-1 div.sk-item::before, #sk-container-id-1 div.sk-parallel-item::before {content: \"\";position: absolute;border-left: 1px solid gray;box-sizing: border-box;top: 0;bottom: 0;left: 50%;z-index: -1;}#sk-container-id-1 div.sk-parallel-item {display: flex;flex-direction: column;z-index: 1;position: relative;background-color: white;}#sk-container-id-1 div.sk-parallel-item:first-child::after {align-self: flex-end;width: 50%;}#sk-container-id-1 div.sk-parallel-item:last-child::after {align-self: flex-start;width: 50%;}#sk-container-id-1 div.sk-parallel-item:only-child::after {width: 0;}#sk-container-id-1 div.sk-dashed-wrapped {border: 1px dashed gray;margin: 0 0.4em 0.5em 0.4em;box-sizing: border-box;padding-bottom: 0.4em;background-color: white;}#sk-container-id-1 div.sk-label label {font-family: monospace;font-weight: bold;display: inline-block;line-height: 1.2em;}#sk-container-id-1 div.sk-label-container {text-align: center;}#sk-container-id-1 div.sk-container {/* jupyter's `normalize.less` sets `[hidden] { display: none; }` but bootstrap.min.css set `[hidden] { display: none !important; }` so we also need the `!important` here to be able to override the default hidden behavior on the sphinx rendered scikit-learn.org. See: https://github.com/scikit-learn/scikit-learn/issues/21755 */display: inline-block !important;position: relative;}#sk-container-id-1 div.sk-text-repr-fallback {display: none;}</style><div id=\"sk-container-id-1\" class=\"sk-top-container\"><div class=\"sk-text-repr-fallback\"><pre>LogisticRegression()</pre><b>In a Jupyter environment, please rerun this cell to show the HTML representation or trust the notebook. <br />On GitHub, the HTML representation is unable to render, please try loading this page with nbviewer.org.</b></div><div class=\"sk-container\" hidden><div class=\"sk-item\"><div class=\"sk-estimator sk-toggleable\"><input class=\"sk-toggleable__control sk-hidden--visually\" id=\"sk-estimator-id-1\" type=\"checkbox\" checked><label for=\"sk-estimator-id-1\" class=\"sk-toggleable__label sk-toggleable__label-arrow\">LogisticRegression</label><div class=\"sk-toggleable__content\"><pre>LogisticRegression()</pre></div></div></div></div></div>"
      ],
      "text/plain": [
       "LogisticRegression()"
      ]
     },
     "execution_count": 4,
     "metadata": {},
     "output_type": "execute_result"
    }
   ],
   "source": [
    "from sklearn.linear_model import LogisticRegression\n",
    "model = LogisticRegression().fit(X_train[:1000],y_train[:1000])\n",
    "model"
   ]
  },
  {
   "cell_type": "code",
   "execution_count": 5,
   "id": "7d1736bc-a410-4b14-adfb-07a7f08b5c55",
   "metadata": {},
   "outputs": [
    {
     "data": {
      "text/plain": [
       "array([-1., -1., -1., ..., -1., -1., -1.])"
      ]
     },
     "execution_count": 5,
     "metadata": {},
     "output_type": "execute_result"
    }
   ],
   "source": [
    "model.predict(X_test)"
   ]
  },
  {
   "cell_type": "code",
   "execution_count": 6,
   "id": "417b7622-8fb0-43e8-ba02-0553bd6d56dd",
   "metadata": {},
   "outputs": [
    {
     "data": {
      "text/plain": [
       "0.8243034055727554"
      ]
     },
     "execution_count": 6,
     "metadata": {},
     "output_type": "execute_result"
    }
   ],
   "source": [
    "np.sum(model.predict(X_test) == y_test)/X_test.shape[0]"
   ]
  },
  {
   "cell_type": "markdown",
   "id": "99ad718a-ad91-408a-bc4c-a92ef3aea9a4",
   "metadata": {},
   "source": [
    "我们的模型对测试样本的标签预测准确率为82%。对该数据集来说，这是一个相当不错的预测准确率。"
   ]
  },
  {
   "cell_type": "markdown",
   "id": "5be5a1e8-44f2-403b-955e-cf62d3b875a2",
   "metadata": {},
   "source": [
    "模型是什么？"
   ]
  },
  {
   "cell_type": "markdown",
   "id": "ef4df9e5-169f-4313-838b-daa08fbbcf54",
   "metadata": {},
   "source": [
    "有很多种不同类型的模型。这里我们要探讨的是线性模型（Linear Model）。"
   ]
  },
  {
   "cell_type": "code",
   "execution_count": 7,
   "id": "c446d3af-9990-4695-aa76-65b1494782bb",
   "metadata": {},
   "outputs": [
    {
     "data": {
      "text/plain": [
       "(-5.3461677503044145,\n",
       " array([ 3.76035057e-01, -2.55358856e-01, -3.21341426e-02,  3.74545737e-01,\n",
       "        -6.85885223e-01,  3.91875239e-01, -1.69476241e-01, -7.41793527e-02,\n",
       "        -5.76496538e-01,  3.94976503e-01, -3.41457312e-01, -6.24912317e-01,\n",
       "        -6.05605602e-01, -4.56928100e-01, -5.19167009e-01, -1.05743009e-01,\n",
       "         8.19586633e-01,  9.96762702e-01, -3.09342985e-01,  6.57277160e-01,\n",
       "        -1.06436104e-01,  7.71287796e-01,  7.99791034e-02,  1.43803702e-01,\n",
       "        -1.01006564e-01,  1.59416785e+00, -5.06233997e-02, -5.78477239e-01,\n",
       "        -3.72601413e-01, -6.35661364e-01, -1.02810175e-01,  0.00000000e+00,\n",
       "        -1.35478173e-01,  4.36864993e-01, -3.42554362e-01, -1.32819675e-01,\n",
       "        -2.00200285e-01, -1.53919241e+00,  6.44831702e-02,  7.17836796e-01,\n",
       "         3.80039408e-01,  4.25898498e-02,  8.81653483e-01, -7.08110462e-02,\n",
       "         6.10385977e-02,  8.94590966e-02,  6.93679716e-01, -1.30382712e+00,\n",
       "        -6.55878656e-01,  1.11512993e+00,  3.78012650e-01, -4.28231712e-02,\n",
       "        -3.72812689e-01,  2.41180415e-01, -2.03955636e-01, -3.07042908e-01,\n",
       "         3.06644477e-01,  4.31360344e-01,  5.31199745e-01, -6.89615763e-02,\n",
       "         4.66366585e-01, -5.81829004e-01, -2.21952424e-01, -2.39529124e-01,\n",
       "        -1.40562769e-03,  7.26045748e-01,  2.46167426e-01, -6.08617054e-01,\n",
       "         0.00000000e+00, -9.02427102e-02, -3.54430134e-03,  0.00000000e+00,\n",
       "         0.00000000e+00, -1.29034794e-01,  5.90856998e-01, -5.15912614e-01,\n",
       "         0.00000000e+00, -5.42096249e-03,  7.28556009e-01, -5.15261422e-02,\n",
       "         2.30704112e-01, -1.61821068e-01, -6.60183260e-01, -1.01170807e-01,\n",
       "        -2.52337853e-01, -5.77230791e-02, -1.45064565e-01, -3.09985224e-01,\n",
       "         0.00000000e+00, -3.31415590e-02,  0.00000000e+00, -1.38495395e-01,\n",
       "         0.00000000e+00,  0.00000000e+00,  0.00000000e+00,  4.26243747e-01,\n",
       "         0.00000000e+00,  0.00000000e+00,  1.72867533e+00,  7.37281346e-02,\n",
       "         1.83154145e+00,  2.40009511e+00,  1.46921214e+00,  1.96856497e+00]))"
      ]
     },
     "execution_count": 7,
     "metadata": {},
     "output_type": "execute_result"
    }
   ],
   "source": [
    "model.intercept_[0], model.coef_[0]"
   ]
  },
  {
   "cell_type": "code",
   "execution_count": 8,
   "id": "7bce340a-7fe4-42cb-ab58-b6a44605a2f4",
   "metadata": {},
   "outputs": [
    {
     "data": {
      "text/plain": [
       "0.8243034055727554"
      ]
     },
     "execution_count": 8,
     "metadata": {},
     "output_type": "execute_result"
    }
   ],
   "source": [
    "# 预测：以模型（theta）单一样本（xi）为输入，返回预测标签\n",
    "def predict(xi, theta, bias=0):\n",
    "    label = np.sign(xi @ theta + bias)\n",
    "    return label\n",
    "\n",
    "np.sum(predict(X_test, model.coef_[0], model.intercept_[0]) == y_test)/X_test.shape[0]"
   ]
  },
  {
   "cell_type": "markdown",
   "id": "2ad04892-e506-4a72-ade8-75beeb1b4d7f",
   "metadata": {},
   "source": [
    "使用梯度下降训练模型（Gradient Descent）"
   ]
  },
  {
   "cell_type": "code",
   "execution_count": 9,
   "id": "18454d03-ad1c-47ee-8767-7fa9476f6280",
   "metadata": {},
   "outputs": [],
   "source": [
    "# 损失函数用于衡量我们的模型有多好。训练目标是最小化损失值。\n",
    "# 这是对率损失函数。\n",
    "def loss(theta, xi, yi):\n",
    "    exponent = - yi * (xi.dot(theta))\n",
    "    return np.log(1 + np.exp(exponent))"
   ]
  },
  {
   "cell_type": "code",
   "execution_count": 10,
   "id": "67d4c087-737f-450c-9055-544f36ca9f6f",
   "metadata": {},
   "outputs": [
    {
     "data": {
      "text/plain": [
       "0.6931471805599453"
      ]
     },
     "execution_count": 10,
     "metadata": {},
     "output_type": "execute_result"
    }
   ],
   "source": [
    "theta = np.zeros(X_train.shape[1])\n",
    "loss(theta, X_train[0], y_train[0])"
   ]
  },
  {
   "cell_type": "markdown",
   "id": "f5797eab-34ff-46ea-8468-39d7b2f6bd67",
   "metadata": {},
   "source": [
    "一般来说，通过简单地计算所有训练样本的平均损失值，我们就可以测量出模型在整个训练集上有多好。当模型的权重全为0时，所有样本全部预测错误，整个训练集的平均损失值刚好等于我们前面计算得到的单个样本损失值。"
   ]
  },
  {
   "cell_type": "code",
   "execution_count": 11,
   "id": "8c6801ea-cfb9-4cf3-9662-3e8547dac8b5",
   "metadata": {},
   "outputs": [
    {
     "data": {
      "text/plain": [
       "0.6931471805599453"
      ]
     },
     "execution_count": 11,
     "metadata": {},
     "output_type": "execute_result"
    }
   ],
   "source": [
    "\n",
    "np.mean([loss(theta, x_i, y_i) for x_i, y_i in zip(X_train, y_train)])"
   ]
  },
  {
   "cell_type": "code",
   "execution_count": 12,
   "id": "55d2f805-9fb3-41f0-8e46-0d8bb57d2328",
   "metadata": {},
   "outputs": [],
   "source": [
    "# 这是对率损失函数的梯度\n",
    "# 梯度是一个表示各个方向损失变化率的向量\n",
    "def gradient(theta, xi, yi):\n",
    "    exponent = yi * (xi.dot(theta))\n",
    "    return - (yi*xi) / (1+np.exp(exponent))"
   ]
  },
  {
   "cell_type": "markdown",
   "id": "aba3345e-581e-479b-9c9b-80be9fa8169d",
   "metadata": {},
   "source": [
    "单步梯度下降"
   ]
  },
  {
   "cell_type": "code",
   "execution_count": 13,
   "id": "19c37c56-a0d1-4731-bb2b-38e01398fe41",
   "metadata": {},
   "outputs": [
    {
     "data": {
      "text/plain": [
       "array([ 0.        ,  0.        ,  0.        ,  0.        , -0.5       ,\n",
       "        0.        ,  0.        ,  0.        , -0.5       ,  0.        ,\n",
       "        0.        ,  0.        ,  0.        ,  0.        ,  0.        ,\n",
       "        0.        ,  0.        ,  0.        ,  0.        ,  0.        ,\n",
       "        0.        ,  0.        ,  0.        ,  0.        ,  0.        ,\n",
       "       -0.5       ,  0.        ,  0.        ,  0.        ,  0.        ,\n",
       "        0.        ,  0.        , -0.5       ,  0.        ,  0.        ,\n",
       "        0.        ,  0.        ,  0.        ,  0.        ,  0.        ,\n",
       "        0.        ,  0.        ,  0.        ,  0.        , -0.5       ,\n",
       "        0.        ,  0.        ,  0.        ,  0.        ,  0.        ,\n",
       "        0.        ,  0.        ,  0.        ,  0.        , -0.5       ,\n",
       "        0.        , -0.5       ,  0.        ,  0.        ,  0.        ,\n",
       "        0.        ,  0.        ,  0.        ,  0.        ,  0.        ,\n",
       "        0.        ,  0.        ,  0.        ,  0.        ,  0.        ,\n",
       "        0.        ,  0.        ,  0.        ,  0.        ,  0.        ,\n",
       "        0.        ,  0.        ,  0.        ,  0.        ,  0.        ,\n",
       "        0.        ,  0.        ,  0.        ,  0.        ,  0.        ,\n",
       "        0.        ,  0.        ,  0.        ,  0.        ,  0.        ,\n",
       "        0.        ,  0.        ,  0.        ,  0.        ,  0.        ,\n",
       "       -0.5       ,  0.        ,  0.        , -0.25      , -0.0606146 ,\n",
       "       -0.21875   ,  0.        ,  0.        , -0.17676768])"
      ]
     },
     "execution_count": 13,
     "metadata": {},
     "output_type": "execute_result"
    }
   ],
   "source": [
    "# 如果我们想把我们向梯度的反方向移动一步（即减去梯度值），\n",
    "# 我们应该可以让theta向损失值*变小）的方向移动\n",
    "# 这就是单步梯度下降。我们在每一步都要尝试*降低*梯度\n",
    "# 在这个例子中，我们只计算了训练集中（第）一个样本的梯度\n",
    "theta = theta - gradient(theta, X_train[0], y_train[0])\n",
    "theta"
   ]
  },
  {
   "cell_type": "code",
   "execution_count": 14,
   "id": "70a354ac-16e2-4778-97eb-41377e3fb792",
   "metadata": {},
   "outputs": [
    {
     "data": {
      "text/plain": [
       "(-1.0, -1.0)"
      ]
     },
     "execution_count": 14,
     "metadata": {},
     "output_type": "execute_result"
    }
   ],
   "source": [
    "y_train[0], predict(theta, X_train[0])"
   ]
  },
  {
   "cell_type": "code",
   "execution_count": 15,
   "id": "5d0733b7-51f5-4693-92b1-e43972cf8166",
   "metadata": {},
   "outputs": [
    {
     "data": {
      "text/plain": [
       "0.7585139318885449"
      ]
     },
     "execution_count": 15,
     "metadata": {},
     "output_type": "execute_result"
    }
   ],
   "source": [
    "def accuracy(theta):\n",
    "    return np.sum(predict(X_test, theta) == y_test)/X_test.shape[0]\n",
    "\n",
    "accuracy(theta)"
   ]
  },
  {
   "cell_type": "markdown",
   "id": "b8f81ceb-66f6-490f-bea0-53583e7f99f0",
   "metadata": {},
   "source": [
    "梯度下降算法"
   ]
  },
  {
   "cell_type": "code",
   "execution_count": 16,
   "id": "e94d0eda-3799-478b-9412-6c1404e0ff7a",
   "metadata": {},
   "outputs": [
    {
     "data": {
      "text/plain": [
       "array([-8.03202480e-03, -1.09365062e-02, -5.86649848e-02, -1.70297784e-02,\n",
       "       -1.85949049e-02, -5.32762100e-03,  3.15432083e-05,  2.24692568e-03,\n",
       "        1.80942171e-03,  1.10891317e-03,  7.17940863e-04,  1.22012681e-03,\n",
       "        1.09385854e-03,  1.42352970e-03, -4.29266203e-03, -5.73114012e-03,\n",
       "       -4.96409990e-02, -7.90844879e-03, -1.08970068e-02, -2.50609905e-02,\n",
       "        3.27410319e-04, -1.20102580e-02, -1.29608985e-02,  1.15182321e-02,\n",
       "       -2.26895536e-04, -1.83255483e-01,  1.34642262e-03,  4.47703452e-02,\n",
       "        4.31895523e-03,  2.97414610e-03,  6.16295082e-03, -4.88903955e-05,\n",
       "       -2.13933205e-02, -4.86969833e-02, -8.62802483e-04,  3.11463168e-03,\n",
       "        1.23013848e-03,  1.54486498e-02,  1.21336873e-03, -4.38864985e-02,\n",
       "       -4.34689131e-03, -1.64743409e-02, -4.53583200e-03, -5.47845717e-03,\n",
       "       -1.67472715e-01,  1.93015718e-02,  4.73608091e-03,  2.44149704e-02,\n",
       "        1.61917788e-02, -1.57259641e-02,  6.59058497e-04, -1.58429762e-03,\n",
       "        9.21938268e-03,  8.76978910e-04, -1.27725399e-01,  3.39811988e-02,\n",
       "       -1.52535476e-01, -1.11859092e-04, -7.43481028e-04, -2.46346175e-04,\n",
       "        2.71911076e-04, -2.55366711e-04,  4.50825450e-04,  1.10378277e-04,\n",
       "        3.56606530e-04, -6.45268003e-04, -2.29994332e-04, -3.86436617e-04,\n",
       "       -3.08625397e-04,  2.96102401e-04,  1.88227302e-04,  8.58078928e-06,\n",
       "        7.20867325e-05, -4.19942412e-05, -8.78083803e-05, -8.39666492e-04,\n",
       "       -3.06575834e-04, -8.40712924e-05, -5.70563641e-04,  4.00302057e-04,\n",
       "       -2.64158094e-04,  6.99057157e-05,  2.42709304e-03,  1.82470777e-04,\n",
       "        8.76079931e-05,  1.54645694e-04, -2.72063515e-04, -6.37207436e-05,\n",
       "        1.24980547e-05,  4.45197135e-04,  4.61621071e-05,  1.15265174e-04,\n",
       "       -2.77439358e-04,  5.96595409e-05,  1.20539191e-04, -1.18965672e-01,\n",
       "        3.44932395e-04, -7.41634269e-05, -6.91870325e-02, -1.45516103e-02,\n",
       "       -9.95735544e-02, -8.85669054e-03, -9.10018120e-03, -6.35462985e-02])"
      ]
     },
     "execution_count": 16,
     "metadata": {},
     "output_type": "execute_result"
    }
   ],
   "source": [
    "def avg_grad(theta, X, y):\n",
    "    grads = [gradient(theta, xi, yi) for xi, yi in zip(X, y)]\n",
    "    return np.mean(grads, axis=0)\n",
    "\n",
    "avg_grad(theta, X_train, y_train)"
   ]
  },
  {
   "cell_type": "markdown",
   "id": "a21ffc65-8107-4fc1-ad1e-fc850d772d21",
   "metadata": {},
   "source": [
    "对于第二个改进点，我们来定义一个可以多次执行梯度下降的迭代算法。"
   ]
  },
  {
   "cell_type": "code",
   "execution_count": 17,
   "id": "c703f483-5c5e-495b-9a1b-b6d33cfbb462",
   "metadata": {},
   "outputs": [],
   "source": [
    "def gradient_descent(iterations):\n",
    "    # 我们用\"猜测\"的一个模型参数（权重全为0的模型）作为起始点\n",
    "    theta = np.zeros(X_train.shape[1])\n",
    "\n",
    "    # 应用训练集迭代执行梯度下降步骤\n",
    "    for i in range(iterations):\n",
    "        theta = theta - avg_grad(theta, X_train, y_train)\n",
    "\n",
    "    return theta"
   ]
  },
  {
   "cell_type": "code",
   "execution_count": 18,
   "id": "8590c4a2-a1fa-4814-b41d-c33abb4b1f89",
   "metadata": {},
   "outputs": [
    {
     "data": {
      "text/plain": [
       "0.7787483414418399"
      ]
     },
     "execution_count": 18,
     "metadata": {},
     "output_type": "execute_result"
    }
   ],
   "source": [
    "theta = gradient_descent(10)\n",
    "accuracy(theta)"
   ]
  },
  {
   "cell_type": "markdown",
   "id": "8c6d9d5f-5f05-4b8b-b7fb-53a433b3725b",
   "metadata": {},
   "source": [
    "还有一个有趣的现象值得我们注意：损失函数的输出值确实会随着每轮梯度下降的迭代而下降。因此，随着执行轮数的增加，我们的模型的确在逐渐接近最小损失值。另外要注意的是，如果训练集和测试集的损失值非常接近，意味着我们的模型没有过拟合训练数据。"
   ]
  },
  {
   "cell_type": "code",
   "execution_count": 19,
   "id": "b57882b2-b3ce-4050-b2ec-d277baab4ff6",
   "metadata": {},
   "outputs": [
    {
     "name": "stdout",
     "output_type": "stream",
     "text": [
      "训练集损失值: 0.549109439168421\n",
      "测试集损失值: 0.5415350837580458\n",
      "\n",
      "训练集损失值: 0.5224689105514977\n",
      "测试集损失值: 0.5162665121068426\n",
      "\n",
      "训练集损失值: 0.5028090736020403\n",
      "测试集损失值: 0.49753785424732383\n",
      "\n",
      "训练集损失值: 0.4878874803989895\n",
      "测试集损失值: 0.48335633696635527\n",
      "\n",
      "训练集损失值: 0.47628573924997925\n",
      "测试集损失值: 0.4723742456095848\n",
      "\n"
     ]
    }
   ],
   "source": [
    "def gradient_descent_log(iterations):\n",
    "    theta = np.zeros(X_train.shape[1])\n",
    "\n",
    "    for i in range(iterations):\n",
    "        theta = theta - avg_grad(theta, X_train, y_train)\n",
    "        print(f'训练集损失值: {np.mean(loss(theta, X_train, y_train))}')\n",
    "        print(f'测试集损失值: {np.mean(loss(theta, X_test, y_test))}\\n')\n",
    "\n",
    "    return theta\n",
    "\n",
    "gradient_descent_log(5);"
   ]
  },
  {
   "cell_type": "markdown",
   "id": "3846550e-ec3c-4651-90fd-73cc7f7bb084",
   "metadata": {},
   "source": [
    "差分隐私梯度下降"
   ]
  },
  {
   "cell_type": "markdown",
   "id": "cd1f8b89-e7d5-40bf-adf4-4e8ebee86275",
   "metadata": {},
   "source": [
    "算法执行过程中唯一使用了训练数据的部分是梯度计算步骤。使该算法满足差分隐私的一种方法是，在每轮模型更新前在梯度上增加噪声。由于我们直接在梯度上增加噪声，因此该方法通常被称为噪声梯度下降（Noisy Gradient Descent）。"
   ]
  },
  {
   "cell_type": "code",
   "execution_count": 20,
   "id": "827665f5-6570-4740-9221-84e908bb7abe",
   "metadata": {},
   "outputs": [],
   "source": [
    "def noisy_gradient_descent(iterations, epsilon, delta):\n",
    "    theta = np.zeros(X_train.shape[1])\n",
    "    sensitivity = '???'\n",
    "\n",
    "    for i in range(iterations):\n",
    "        grad = avg_grad(theta, X_train, y_train)\n",
    "        noisy_grad = gaussian_mech_vec(grad, sensitivity, epsilon, delta)\n",
    "        theta = theta - noisy_grad\n",
    "\n",
    "    return theta"
   ]
  },
  {
   "cell_type": "markdown",
   "id": "62c4bab1-bc57-4620-a2c5-3e488effe168",
   "metadata": {},
   "source": [
    "这里就差一块拼图了：梯度函数的敏感度是多少？这是使算法满足差分隐私的关键所在。\n",
    "\n",
    "这里我们主要面临两个挑战。第一，梯度是均值问询的结果，即梯度是每个样本梯度的均值。我们之前已经提到，最好将均值问询拆分为一个求和问询和一个计数问询。做到这一点并不难，我们可以不直接计算梯度均值，而是计算每个样本梯度噪声和，再除以噪声计数值。第二，我们需要限制每个样本梯度的敏感度。有两种基础方法可以做到这一点。我们可以（如之前讲解的其他问询那样）分析梯度函数，确定其在最差情况下的全局敏感度。我们也可以（如\"采样-聚合\"框架那样）裁剪梯度函数的输出值，从而强制限定敏感度上界。\n",
    "\n",
    "我们先介绍第二种方法。第二种方法从概念上看更简单，在实际应用中的普适性更好。此方法一般被称为梯度裁剪（Gradient Clipping）。"
   ]
  },
  {
   "cell_type": "markdown",
   "id": "2efe7fc6-55ce-41aa-83d3-667f8f60657d",
   "metadata": {},
   "source": [
    "梯度裁剪"
   ]
  },
  {
   "cell_type": "code",
   "execution_count": 21,
   "id": "643dd8d3-46a9-4775-b66e-10d23e36d98d",
   "metadata": {},
   "outputs": [],
   "source": [
    "def L2_clip(v, b):\n",
    "    norm = np.linalg.norm(v, ord=2)\n",
    "    \n",
    "    if norm > b:\n",
    "        return b * (v / norm)\n",
    "    else:\n",
    "        return v"
   ]
  },
  {
   "cell_type": "code",
   "execution_count": 22,
   "id": "7b7d9c35-cec8-44ea-a3e8-a39b41a9430a",
   "metadata": {},
   "outputs": [],
   "source": [
    "def gradient_sum(theta, X, y, b):\n",
    "    gradients = [L2_clip(gradient(theta, x_i, y_i), b) for x_i, y_i in zip(X,y)]\n",
    "        \n",
    "    # 求和问询\n",
    "    # （经过裁剪后的）L2敏感度为b\n",
    "    return np.sum(gradients, axis=0)"
   ]
  },
  {
   "cell_type": "code",
   "execution_count": 23,
   "id": "70e7d5a0-ccfb-47d7-9e0d-158cd0012de6",
   "metadata": {},
   "outputs": [],
   "source": [
    "def noisy_gradient_descent(iterations, epsilon, delta):\n",
    "    theta = np.zeros(X_train.shape[1])\n",
    "    sensitivity = 5.0\n",
    "    \n",
    "    noisy_count = laplace_mech(X_train.shape[0], 1, epsilon)\n",
    "\n",
    "    for i in range(iterations):\n",
    "        grad_sum        = gradient_sum(theta, X_train, y_train, sensitivity)\n",
    "        noisy_grad_sum  = gaussian_mech_vec(grad_sum, sensitivity, epsilon, delta)\n",
    "        noisy_avg_grad  = noisy_grad_sum / noisy_count\n",
    "        theta           = theta - noisy_avg_grad\n",
    "\n",
    "    return theta"
   ]
  },
  {
   "cell_type": "code",
   "execution_count": 24,
   "id": "39cea4e5-bbc2-40dd-b136-82c94ced6bc9",
   "metadata": {},
   "outputs": [
    {
     "data": {
      "text/plain": [
       "0.7852720035382574"
      ]
     },
     "execution_count": 24,
     "metadata": {},
     "output_type": "execute_result"
    }
   ],
   "source": [
    "theta = noisy_gradient_descent(10, 0.1, 1e-5)\n",
    "accuracy(theta)"
   ]
  },
  {
   "cell_type": "markdown",
   "id": "7f8d9523-8080-49c1-b106-f6b957f42de1",
   "metadata": {},
   "source": [
    "梯度的敏感度"
   ]
  },
  {
   "cell_type": "code",
   "execution_count": 25,
   "id": "73315d27-a664-4bb9-b9bb-dc73df7aeedc",
   "metadata": {},
   "outputs": [],
   "source": [
    "def gradient_sum(theta, X, y, b):\n",
    "    gradients = [gradient(theta, x_i, y_i) for x_i, y_i in zip(X,y)]\n",
    "\n",
    "    # 求和问询\n",
    "    # （经过裁剪后的）L2敏感度为b\n",
    "    return np.sum(gradients, axis=0)"
   ]
  },
  {
   "cell_type": "code",
   "execution_count": 26,
   "id": "fd9a6321-1b7e-47d0-9228-150c196f4373",
   "metadata": {},
   "outputs": [],
   "source": [
    "def noisy_gradient_descent(iterations, epsilon, delta):\n",
    "    theta = np.zeros(X_train.shape[1])\n",
    "    sensitivity = 5.0\n",
    "    \n",
    "    noisy_count = laplace_mech(X_train.shape[0], 1, epsilon)\n",
    "    clipped_X = [L2_clip(x_i, sensitivity) for x_i in X_train]\n",
    "\n",
    "    for i in range(iterations):\n",
    "        grad_sum        = gradient_sum(theta, clipped_X, y_train, sensitivity)\n",
    "        noisy_grad_sum  = gaussian_mech_vec(grad_sum, sensitivity, epsilon, delta)\n",
    "        noisy_avg_grad  = noisy_grad_sum / noisy_count\n",
    "        theta           = theta - noisy_avg_grad\n",
    "\n",
    "    return theta"
   ]
  },
  {
   "cell_type": "code",
   "execution_count": 27,
   "id": "8be90853-9c25-40b7-b661-cede9fa066c0",
   "metadata": {},
   "outputs": [
    {
     "data": {
      "text/plain": [
       "0.7785272003538257"
      ]
     },
     "execution_count": 27,
     "metadata": {},
     "output_type": "execute_result"
    }
   ],
   "source": [
    "theta = noisy_gradient_descent(10, 0.1, 1e-5)\n",
    "accuracy(theta)"
   ]
  },
  {
   "cell_type": "markdown",
   "id": "ccb18cd0-8969-482b-9ad3-c2a453aea74d",
   "metadata": {},
   "source": [
    "噪声对训练的影响"
   ]
  },
  {
   "cell_type": "code",
   "execution_count": 28,
   "id": "9056fcf5-58f5-4bea-9199-cbaa8851c2a9",
   "metadata": {},
   "outputs": [],
   "source": [
    "delta = 1e-5\n",
    "\n",
    "epsilons = [0.001, 0.003, 0.005, 0.008, 0.01, 0.03, 0.05, 0.08, 0.1]\n",
    "thetas   = [noisy_gradient_descent(10, epsilon, delta) for epsilon in epsilons]\n",
    "accs     = [accuracy(theta) for theta in thetas]"
   ]
  },
  {
   "cell_type": "code",
   "execution_count": 31,
   "id": "bfc9c3c8-0d0d-4eba-b400-08e6a42d9258",
   "metadata": {},
   "outputs": [
    {
     "data": {
      "image/png": "[encoded data removed]",
      "text/plain": [
       "<Figure size 640x480 with 1 Axes>"
      ]
     },
     "metadata": {},
     "output_type": "display_data"
    }
   ],
   "source": [
    "plt.xlabel('ε - Epsilon')\n",
    "plt.ylabel('Accuracy')\n",
    "plt.plot(epsilons, accs);"
   ]
  },
  {
   "cell_type": "code",
   "execution_count": null,
   "id": "e0855e68-d2a7-4177-bd3b-b842197db44b",
   "metadata": {},
   "outputs": [],
   "source": []
  }
 ],
 "metadata": {
  "kernelspec": {
   "display_name": "Python 3 (ipykernel)",
   "language": "python",
   "name": "python3"
  },
  "language_info": {
   "codemirror_mode": {
    "name": "ipython",
    "version": 3
   },
   "file_extension": ".py",
   "mimetype": "text/x-python",
   "name": "python",
   "nbconvert_exporter": "python",
   "pygments_lexer": "ipython3",
   "version": "3.11.7"
  }
 },
 "nbformat": 4,
 "nbformat_minor": 5
}
