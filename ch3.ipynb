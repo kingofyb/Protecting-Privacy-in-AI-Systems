{
 "cells": [
  {
   "cell_type": "markdown",
   "id": "81912885-12c3-4934-abac-8f74f0676dfd",
   "metadata": {},
   "source": [
    "拉普拉斯机制"
   ]
  },
  {
   "cell_type": "markdown",
   "id": "06e7d67b-9c04-4715-bec1-ff43fd0b64d0",
   "metadata": {},
   "source": [
    "差分隐私一般用于回复特定的问询。现在考虑一个针对人口普查数据的问询。首先不使用差分隐私。"
   ]
  },
  {
   "cell_type": "code",
   "execution_count": 2,
   "id": "768c5bea-2438-4180-abd1-ff40436d8486",
   "metadata": {},
   "outputs": [],
   "source": [
    "import pandas as pd\n",
    "import numpy as np\n",
    "import matplotlib.pyplot as plt\n",
    "adult = pd.read_csv(\"adult_with_pii.csv\")"
   ]
  },
  {
   "cell_type": "markdown",
   "id": "c9121a58-d8b4-4180-b6cd-86e03cdb7332",
   "metadata": {},
   "source": [
    "\"数据集中有多少个体的年龄大于等于40岁？\""
   ]
  },
  {
   "cell_type": "code",
   "execution_count": 3,
   "id": "13c9fa9a-3b8a-4129-9c5b-11dd9c430928",
   "metadata": {},
   "outputs": [
    {
     "data": {
      "text/plain": [
       "14237"
      ]
     },
     "execution_count": 3,
     "metadata": {},
     "output_type": "execute_result"
    }
   ],
   "source": [
    "adult[adult['Age'] >= 40].shape[0]"
   ]
  },
  {
   "cell_type": "markdown",
   "id": "44dc079c-257e-4094-9b6e-5a4cefaef69c",
   "metadata": {},
   "source": [
    "使这个问询满足差分隐私的最简单方法是：在回复结果上增加随机噪声。这里的关键挑战是：既需要增加足够大的噪声，使问询满足差分隐私，但噪声又不能加得太多，否则问询结果就无意义了。为了简化这一过程，差分隐私领域的学者提出了一些基础机制。这些基础机制具体描述了应该增加何种类型的噪声，以及噪声量应该有多大。最典型的基础机制是拉普拉斯机制（Laplace Mechanism）"
   ]
  },
  {
   "cell_type": "code",
   "execution_count": 6,
   "id": "a8d3d267-7e39-48b5-97c0-166336529f24",
   "metadata": {},
   "outputs": [
    {
     "data": {
      "text/plain": [
       "14243.09814275089"
      ]
     },
     "execution_count": 6,
     "metadata": {},
     "output_type": "execute_result"
    }
   ],
   "source": [
    "sensitivity = 1\n",
    "epsilon = 0.1\n",
    "\n",
    "adult[adult['Age'] >= 40].shape[0] + np.random.laplace(loc=0, scale=sensitivity/epsilon)"
   ]
  },
  {
   "cell_type": "markdown",
   "id": "b4ec357a-f914-4471-9bd1-63b51836c7f2",
   "metadata": {},
   "source": [
    "虽然每次代码的输出结果都会发生变化，但在大多数情况下，输出的结果都与真实结果（14,235）很接近，输出结果的可用性相对较高。"
   ]
  },
  {
   "cell_type": "markdown",
   "id": "faea6581-53c8-48ae-a23d-250f072c0991",
   "metadata": {},
   "source": [
    "需要多大的噪声？"
   ]
  },
  {
   "cell_type": "markdown",
   "id": "d1c6c4ae-9033-49b8-b0c3-9082632f4427",
   "metadata": {},
   "source": [
    "我们如何知道拉普拉斯机制是否已经增加了足够的噪声，可以阻止攻击者对数据集中的个体实施重标识攻击？可以先尝试自己来实施攻击。构造一个恶意的计数问询，专门用于确定凯莉·特鲁斯洛夫的收入是否大于$50k。"
   ]
  },
  {
   "cell_type": "code",
   "execution_count": 7,
   "id": "b49d024a-b634-4a01-9caa-d5cdd57b786e",
   "metadata": {},
   "outputs": [
    {
     "data": {
      "text/plain": [
       "1"
      ]
     },
     "execution_count": 7,
     "metadata": {},
     "output_type": "execute_result"
    }
   ],
   "source": [
    "karries_row = adult[adult['Name'] == 'Karrie Trusslove']\n",
    "karries_row[karries_row['Target'] == '<=50K'].shape[0]"
   ]
  },
  {
   "cell_type": "markdown",
   "id": "af9a7bad-ff44-4bb2-be23-6c925d6496ad",
   "metadata": {},
   "source": [
    "此回复结果给出了凯莉所在数据行的收入值，显然侵犯了凯莉的隐私。由于我们知道如何应用拉普拉斯机制使计数问询满足差分隐私，我们可以这样回复问询："
   ]
  },
  {
   "cell_type": "code",
   "execution_count": 10,
   "id": "3eeead7b-a0af-489c-b514-42c6f7cd0d98",
   "metadata": {},
   "outputs": [
    {
     "data": {
      "text/plain": [
       "2.7518313074038887"
      ]
     },
     "execution_count": 10,
     "metadata": {},
     "output_type": "execute_result"
    }
   ],
   "source": [
    "sensitivity = 1\n",
    "epsilon = 0.1\n",
    "\n",
    "karries_row = adult[adult['Name'] == 'Karrie Trusslove']\n",
    "karries_row[karries_row['Target'] == '<=50K'].shape[0] + \\\n",
    "  np.random.laplace(loc=0, scale=sensitivity/epsilon)"
   ]
  },
  {
   "cell_type": "markdown",
   "id": "de1bebb4-f121-4479-a527-9e6d1214c1cc",
   "metadata": {},
   "source": [
    "真实结果是0还是1呢？因为增加的噪声比较大，我们已经无法可靠地判断真实结果是什么了。这就是差分隐私要实现的目的：哪怕可以判定出此问询是恶意的，我们也不会拒绝回复问询。相反，我们会增加足够大的噪声，使恶意问询的回复结果对攻击者来说变得毫无用处。"
   ]
  },
  {
   "cell_type": "code",
   "execution_count": null,
   "id": "c1242c41-51f2-4a87-9687-919b8b4e2229",
   "metadata": {},
   "outputs": [],
   "source": []
  }
 ],
 "metadata": {
  "kernelspec": {
   "display_name": "Python 3 (ipykernel)",
   "language": "python",
   "name": "python3"
  },
  "language_info": {
   "codemirror_mode": {
    "name": "ipython",
    "version": 3
   },
   "file_extension": ".py",
   "mimetype": "text/x-python",
   "name": "python",
   "nbconvert_exporter": "python",
   "pygments_lexer": "ipython3",
   "version": "3.11.7"
  }
 },
 "nbformat": 4,
 "nbformat_minor": 5
}
