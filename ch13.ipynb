{
 "cells": [
  {
   "cell_type": "code",
   "execution_count": 2,
   "id": "b8b5c41e-8e2e-4572-bb3f-66615a70dc35",
   "metadata": {},
   "outputs": [],
   "source": [
    "%matplotlib inline\n",
    "import pandas as pd\n",
    "import numpy as np\n",
    "\n",
    "adult = pd.read_csv(\"adult_with_pii.csv\")\n",
    "def laplace_mech(v, sensitivity, epsilon):\n",
    "    return v + np.random.laplace(loc=0, scale=sensitivity / epsilon)\n",
    "def pct_error(orig, priv):\n",
    "    return np.abs(orig - priv)/orig * 100.0"
   ]
  },
  {
   "cell_type": "markdown",
   "id": "3cc9d448-adcd-41d7-873d-e473935bbdb6",
   "metadata": {},
   "source": [
    "本地差分隐私"
   ]
  },
  {
   "cell_type": "markdown",
   "id": "5977524a-25a3-433e-8df6-353ee339be98",
   "metadata": {},
   "source": [
    "截至目前，我们只考虑了差分隐私的中心模型（Central Model）。在中心模型中，原始敏感数据被汇总到单个数据集中。在这种场景下，我们假定分析者是恶意的，但存在一个可信任的数据管理者，由它持有数据集并能正确执行分析者指定的差分隐私机制。\n",
    "\n",
    "这种设定通常是不现实的。在很多情况下，数据管理者和分析者是同一个人，且实际上不存在一个可信第三方，能由它持有数据集并执行差分隐私机制。事实上，往往是我们不信任的组织来收集我们最敏感的数据。这样的组织显然无法成为可信数据管理者。\n",
    "\n",
    "中心差分隐私模型的一种替代方案是差分隐私本地模型（Local Model）。在本地模型中，数据在离开数据主体控制之前就已经满足差分隐私。例如，在将数据发送给数据管理者之前，用户就在自己的设备上为自己的数据添加噪声。在本地模型中，数据管理者不需要是可信的，因为他们收集的是已经满足差分隐私的数据。\n",
    "\n",
    "因此，相比于中心模型，本地模型有着巨大的优势：数据主体不需要相信除他们自己以外的任何人。这一优势使得本地模型在实际系统中有着广泛的应用，包括谷歌和苹果都部署了基于本地模型的差分隐私应用。\n",
    "\n",
    "不幸的是，本地模型也有明显的缺点：在相同的隐私消耗量下，对于相同的问询，本地模型问询结果的准确性通常比中心模型低几个数量级。这种巨大的准确性损失意味着只有较少类型的问询适用于本地差分隐私。即便如此，只有当数据量较大（即参与者数量较多时）时，差分隐私本地模型分析结果的准确率才可以满足实际要求。\n",
    "\n",
    "本章，我们将学习两种本地差分隐私机制。第一种是随机应答（Randomized Response），第二种是一元编码（Unary Encoding）。"
   ]
  },
  {
   "cell_type": "markdown",
   "id": "0328d38d-6c96-42e8-a8f4-bbb98940d322",
   "metadata": {},
   "source": [
    "随机应答"
   ]
  },
  {
   "cell_type": "code",
   "execution_count": 3,
   "id": "8a506631-1371-497e-ba43-abec9e42e984",
   "metadata": {},
   "outputs": [],
   "source": [
    "def rand_resp_sales(response):\n",
    "    truthful_response = response == 'Sales'\n",
    "    \n",
    "    # 第一次抛掷硬币\n",
    "    if np.random.randint(0, 2) == 0:\n",
    "        # 如实回答\n",
    "        return truthful_response\n",
    "    else:\n",
    "        # （用第二次硬币抛掷结果）随机应答\n",
    "        return np.random.randint(0, 2) == 0"
   ]
  },
  {
   "cell_type": "markdown",
   "id": "b7272840-3e31-40db-b1ae-b79b5948403e",
   "metadata": {},
   "source": [
    "让我们来询问200名从事销售工作的人，请他们使用随机应答算法回答此问题，看看结果如何。"
   ]
  },
  {
   "cell_type": "code",
   "execution_count": 4,
   "id": "50efb69c-395f-4ca4-b843-fa6a69380baf",
   "metadata": {},
   "outputs": [
    {
     "data": {
      "text/plain": [
       "True     153\n",
       "False     47\n",
       "Name: count, dtype: int64"
      ]
     },
     "execution_count": 4,
     "metadata": {},
     "output_type": "execute_result"
    }
   ],
   "source": [
    "pd.Series([rand_resp_sales('Sales') for i in range(200)]).value_counts()"
   ]
  },
  {
   "cell_type": "code",
   "execution_count": 5,
   "id": "00adef72-5650-4aaf-88d4-58ecfbacbd06",
   "metadata": {},
   "outputs": [],
   "source": [
    "responses = [rand_resp_sales(r) for r in adult['Occupation']]"
   ]
  },
  {
   "cell_type": "code",
   "execution_count": 6,
   "id": "9c5d5c6f-ce3b-4541-9cec-69349db35668",
   "metadata": {},
   "outputs": [
    {
     "data": {
      "text/plain": [
       "False    22660\n",
       "True      9901\n",
       "Name: count, dtype: int64"
      ]
     },
     "execution_count": 6,
     "metadata": {},
     "output_type": "execute_result"
    }
   ],
   "source": [
    "pd.Series(responses).value_counts()"
   ]
  },
  {
   "cell_type": "markdown",
   "id": "25879e6a-826c-4175-aec7-275ff0eadad7",
   "metadata": {},
   "source": [
    "这次，我们得到的\"否\"数量比\"是\"数量更多。稍加思考，就会发现这是一个合理的统计结果，因为数据集中大多数参与者的职位都不是销售。\n",
    "\n",
    "现在的关键问题是：我们如何根据这些回复，估计出数据集中销售人员的真实人数呢？\"是\"的数量并不能很好地估计销售人员数量："
   ]
  },
  {
   "cell_type": "code",
   "execution_count": 7,
   "id": "276efe6c-6ed5-455b-b3f3-801d65c2ac34",
   "metadata": {},
   "outputs": [
    {
     "data": {
      "text/plain": [
       "3650"
      ]
     },
     "execution_count": 7,
     "metadata": {},
     "output_type": "execute_result"
    }
   ],
   "source": [
    "len(adult[adult['Occupation'] == 'Sales'])"
   ]
  },
  {
   "cell_type": "code",
   "execution_count": 8,
   "id": "c497bf8a-e095-4185-ab0c-9cdd143a382f",
   "metadata": {},
   "outputs": [],
   "source": [
    "responses = [rand_resp_sales(r) for r in adult['Occupation']]\n",
    "\n",
    "# 我们估计出有1/4的\"是\"回复完全来自于硬币的随机抛掷结果\n",
    "# 这些都是假的\"是\"\n",
    "fake_yeses = len(responses)/4\n",
    "\n",
    "# 回复为\"是\"的总人数\n",
    "num_yeses = np.sum([1 if r else 0 for r in responses])\n",
    "\n",
    "# 真实\"是\"的人数等于回复为\"是\"的总人数减去假\"是\"的人数\n",
    "true_yeses = num_yeses - fake_yeses"
   ]
  },
  {
   "cell_type": "code",
   "execution_count": 9,
   "id": "54326efb-2db0-4bfa-9f41-433e23210ced",
   "metadata": {},
   "outputs": [
    {
     "data": {
      "text/plain": [
       "3861.5"
      ]
     },
     "execution_count": 9,
     "metadata": {},
     "output_type": "execute_result"
    }
   ],
   "source": [
    "# 用true_yesses估计\"真实\"组中回答\"是\"的人数\n",
    "# 我们把人数翻倍，估计出回复为\"是\"的总人数\n",
    "rr_result = true_yeses*2\n",
    "rr_result"
   ]
  },
  {
   "cell_type": "code",
   "execution_count": 10,
   "id": "19ad2878-a6d3-46e5-9e16-a169f523cdc1",
   "metadata": {},
   "outputs": [
    {
     "data": {
      "text/plain": [
       "3650"
      ]
     },
     "execution_count": 10,
     "metadata": {},
     "output_type": "execute_result"
    }
   ],
   "source": [
    "true_result = np.sum(adult['Occupation'] == 'Sales')\n",
    "true_result"
   ]
  },
  {
   "cell_type": "code",
   "execution_count": 11,
   "id": "3954e122-b529-4f9e-9b15-0155cbbf98fa",
   "metadata": {},
   "outputs": [
    {
     "data": {
      "text/plain": [
       "5.794520547945205"
      ]
     },
     "execution_count": 11,
     "metadata": {},
     "output_type": "execute_result"
    }
   ],
   "source": [
    "pct_error(true_result, rr_result)"
   ]
  },
  {
   "cell_type": "markdown",
   "id": "e86d16c7-bc5d-4c81-a4a5-37e822160110",
   "metadata": {},
   "source": [
    "当总人数相对比较大时，（例如，本例的总人数超过了3000），我们通常可以使用此方法得到一个错误率\"可接受\"的统计结果。此例子中的错误率低于5%。如果我们的目标是统计最受欢迎的职位，这个方法可以帮助我们得到较为准确的结果。然而，统计结果的错误率会随着总人数的降低而快速增大。\n",
    "\n",
    "此外，随机应答的准确率和中心模型拉普拉斯机制的准确率相比要差出几个数量级。让我们使用此例子比较一下这两种机制："
   ]
  },
  {
   "cell_type": "code",
   "execution_count": 12,
   "id": "fbd3d232-9d85-4823-bfdc-a298fe083ba7",
   "metadata": {},
   "outputs": [
    {
     "data": {
      "text/plain": [
       "0.02410391432662536"
      ]
     },
     "execution_count": 12,
     "metadata": {},
     "output_type": "execute_result"
    }
   ],
   "source": [
    "pct_error(true_result, laplace_mech(true_result, 1, 1))"
   ]
  },
  {
   "cell_type": "markdown",
   "id": "94aa044e-fa5b-47d9-9bd4-4ead4696a8ba",
   "metadata": {},
   "source": [
    "确实存在效果更好的本地模型算法。然而，本地模型存在天生的限制条件：必须在提交数据前增加噪声。这意味着本地模型算法的准确率总是比最好的中心模型算法准确率低。"
   ]
  },
  {
   "cell_type": "markdown",
   "id": "e3bff077-9c5f-496e-9fe2-7e128f8b3360",
   "metadata": {},
   "source": [
    "一元编码"
   ]
  },
  {
   "cell_type": "code",
   "execution_count": 13,
   "id": "930da56c-bc72-4cb7-8177-8f564cac25bf",
   "metadata": {},
   "outputs": [
    {
     "data": {
      "text/plain": [
       "array(['Adm-clerical', 'Exec-managerial', 'Handlers-cleaners',\n",
       "       'Prof-specialty', 'Other-service', 'Sales', 'Craft-repair',\n",
       "       'Transport-moving', 'Farming-fishing', 'Machine-op-inspct',\n",
       "       'Tech-support', 'Protective-serv', 'Armed-Forces',\n",
       "       'Priv-house-serv'], dtype=object)"
      ]
     },
     "execution_count": 13,
     "metadata": {},
     "output_type": "execute_result"
    }
   ],
   "source": [
    "domain = adult['Occupation'].dropna().unique()\n",
    "domain"
   ]
  },
  {
   "cell_type": "markdown",
   "id": "5f7b5e00-3c0a-43e5-9bb9-ad8262dcaed0",
   "metadata": {},
   "source": [
    "该技术的名称来源于所用的编码方法：如果应答域大小为k，我们将每个应答值编码为长度为k的比特向量。除了应答者的职位所对应的比特值为1以外，所有其他位置的编码均为0。机器学习领域称这种表示方法\"独热编码\"（One-hot Encoding）。\n",
    "\n",
    "举例来说，'销售'是应答域中的第6个元素，因此'销售'职位的编码是第6个比特为1、其余比特值均为0的向量。"
   ]
  },
  {
   "cell_type": "code",
   "execution_count": 14,
   "id": "9f739ac0-b4dc-47a0-b76a-36b921e8e514",
   "metadata": {},
   "outputs": [
    {
     "data": {
      "text/plain": [
       "[0, 0, 0, 0, 0, 1, 0, 0, 0, 0, 0, 0, 0, 0]"
      ]
     },
     "execution_count": 14,
     "metadata": {},
     "output_type": "execute_result"
    }
   ],
   "source": [
    "def encode(response):\n",
    "    return [1 if d == response else 0 for d in domain]\n",
    "\n",
    "encode('Sales')"
   ]
  },
  {
   "cell_type": "code",
   "execution_count": 15,
   "id": "7f49486b-4272-4609-ad3c-c1098e0548ef",
   "metadata": {},
   "outputs": [
    {
     "data": {
      "text/plain": [
       "[1, 0, 0, 0, 0, 1, 0, 0, 0, 0, 1, 0, 0, 1]"
      ]
     },
     "execution_count": 15,
     "metadata": {},
     "output_type": "execute_result"
    }
   ],
   "source": [
    "def perturb(encoded_response):\n",
    "    return [perturb_bit(b) for b in encoded_response]\n",
    "\n",
    "def perturb_bit(bit):\n",
    "    p = .75\n",
    "    q = .25\n",
    "\n",
    "    sample = np.random.random()\n",
    "    if bit == 1:\n",
    "        if sample <= p:\n",
    "            return 1\n",
    "        else:\n",
    "            return 0\n",
    "    elif bit == 0:\n",
    "        if sample <= q:\n",
    "            return 1\n",
    "        else: \n",
    "            return 0\n",
    "\n",
    "perturb(encode('Sales'))"
   ]
  },
  {
   "cell_type": "code",
   "execution_count": 16,
   "id": "b1799e70-56ff-493c-9e92-c2df3819db6e",
   "metadata": {},
   "outputs": [
    {
     "data": {
      "text/plain": [
       "2.1972245773362196"
      ]
     },
     "execution_count": 16,
     "metadata": {},
     "output_type": "execute_result"
    }
   ],
   "source": [
    "def unary_epsilon(p, q):\n",
    "    return np.log((p*(1-q)) / ((1-p)*q))\n",
    "\n",
    "unary_epsilon(.75, .25)"
   ]
  },
  {
   "cell_type": "markdown",
   "id": "a3a594bb-8271-4b0a-b3c2-71c35f7e8ccc",
   "metadata": {},
   "source": [
    "最后一步是聚合。如果我们没有对应答值进行过任何扰动，我们可以简单地对所有得到的应答向量逐比特相加，得到应答域中每个元素的计数结果："
   ]
  },
  {
   "cell_type": "code",
   "execution_count": 17,
   "id": "8db83dbb-cffd-48e8-8301-41a15b1a9923",
   "metadata": {},
   "outputs": [
    {
     "data": {
      "text/plain": [
       "[('Adm-clerical', 3770),\n",
       " ('Exec-managerial', 4066),\n",
       " ('Handlers-cleaners', 1370),\n",
       " ('Prof-specialty', 4140),\n",
       " ('Other-service', 3295),\n",
       " ('Sales', 3650),\n",
       " ('Craft-repair', 4099),\n",
       " ('Transport-moving', 1597),\n",
       " ('Farming-fishing', 994),\n",
       " ('Machine-op-inspct', 2002),\n",
       " ('Tech-support', 928),\n",
       " ('Protective-serv', 649),\n",
       " ('Armed-Forces', 9),\n",
       " ('Priv-house-serv', 149)]"
      ]
     },
     "execution_count": 17,
     "metadata": {},
     "output_type": "execute_result"
    }
   ],
   "source": [
    "counts = np.sum([encode(r) for r in adult['Occupation']], axis=0)\n",
    "list(zip(domain, counts))"
   ]
  },
  {
   "cell_type": "markdown",
   "id": "ab047d45-567c-4ba3-95fc-1a49604ad6c2",
   "metadata": {},
   "source": [
    "但是，正如我们在随机应答中所看到的，翻转比特值产生的\"假\"应答值将使我们得到难以解释的统计结果。如果我们把扰动后的应答向量逐比特相加，得到的所有计数结果都是错误的："
   ]
  },
  {
   "cell_type": "code",
   "execution_count": 18,
   "id": "d0942eb4-dcf4-4e99-91bc-e19d83296453",
   "metadata": {},
   "outputs": [
    {
     "data": {
      "text/plain": [
       "[('Adm-clerical', 10091),\n",
       " ('Exec-managerial', 10380),\n",
       " ('Handlers-cleaners', 8738),\n",
       " ('Prof-specialty', 10175),\n",
       " ('Other-service', 9863),\n",
       " ('Sales', 9873),\n",
       " ('Craft-repair', 10120),\n",
       " ('Transport-moving', 9020),\n",
       " ('Farming-fishing', 8718),\n",
       " ('Machine-op-inspct', 9163),\n",
       " ('Tech-support', 8596),\n",
       " ('Protective-serv', 8479),\n",
       " ('Armed-Forces', 8160),\n",
       " ('Priv-house-serv', 8099)]"
      ]
     },
     "execution_count": 18,
     "metadata": {},
     "output_type": "execute_result"
    }
   ],
   "source": [
    "counts = np.sum([perturb(encode(r)) for r in adult['Occupation']], axis=0)\n",
    "list(zip(domain, counts))"
   ]
  },
  {
   "cell_type": "code",
   "execution_count": 19,
   "id": "c6b6794f-4d01-4d4e-ac91-3096ec72677d",
   "metadata": {},
   "outputs": [],
   "source": [
    "def aggregate(responses):\n",
    "    p = .75\n",
    "    q = .25\n",
    "    \n",
    "    sums = np.sum(responses, axis=0)\n",
    "    n = len(responses)\n",
    "    \n",
    "    return [(v - n*q) / (p-q) for v in sums]  "
   ]
  },
  {
   "cell_type": "code",
   "execution_count": 20,
   "id": "4719d5a0-bf4a-44e4-a012-b1d772c0249b",
   "metadata": {},
   "outputs": [
    {
     "data": {
      "text/plain": [
       "[('Adm-clerical', 3917.5),\n",
       " ('Exec-managerial', 4235.5),\n",
       " ('Handlers-cleaners', 1157.5),\n",
       " ('Prof-specialty', 4281.5),\n",
       " ('Other-service', 3297.5),\n",
       " ('Sales', 3715.5),\n",
       " ('Craft-repair', 3967.5),\n",
       " ('Transport-moving', 1575.5),\n",
       " ('Farming-fishing', 827.5),\n",
       " ('Machine-op-inspct', 1787.5),\n",
       " ('Tech-support', 907.5),\n",
       " ('Protective-serv', 555.5),\n",
       " ('Armed-Forces', 39.5),\n",
       " ('Priv-house-serv', 365.5)]"
      ]
     },
     "execution_count": 20,
     "metadata": {},
     "output_type": "execute_result"
    }
   ],
   "source": [
    "responses = [perturb(encode(r)) for r in adult['Occupation']]\n",
    "counts = aggregate(responses)\n",
    "list(zip(domain, counts))"
   ]
  },
  {
   "cell_type": "code",
   "execution_count": null,
   "id": "6936a71f-c26d-440e-9791-2e80691af948",
   "metadata": {},
   "outputs": [],
   "source": []
  }
 ],
 "metadata": {
  "kernelspec": {
   "display_name": "Python 3 (ipykernel)",
   "language": "python",
   "name": "python3"
  },
  "language_info": {
   "codemirror_mode": {
    "name": "ipython",
    "version": 3
   },
   "file_extension": ".py",
   "mimetype": "text/x-python",
   "name": "python",
   "nbconvert_exporter": "python",
   "pygments_lexer": "ipython3",
   "version": "3.11.7"
  }
 },
 "nbformat": 4,
 "nbformat_minor": 5
}
