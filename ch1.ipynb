{
 "cells": [
  {
   "cell_type": "markdown",
   "id": "6f4ecba5-842d-4d6b-9e70-d74808d9ddd4",
   "metadata": {},
   "source": [
    "去标识"
   ]
  },
  {
   "cell_type": "code",
   "execution_count": 10,
   "id": "63b9666d-0349-4278-84cb-ef526d2967e6",
   "metadata": {},
   "outputs": [],
   "source": [
    "import pandas as pd\n",
    "import numpy as np\n",
    "import matplotlib.pyplot as plt\n",
    "plt.style.use('fivethirtyeight')"
   ]
  },
  {
   "cell_type": "code",
   "execution_count": 11,
   "id": "d768f03c-1a9f-4eac-a305-a7c0fb3e8a19",
   "metadata": {},
   "outputs": [
    {
     "data": {
      "text/html": [
       "<div>\n",
       "<style scoped>\n",
       "    .dataframe tbody tr th:only-of-type {\n",
       "        vertical-align: middle;\n",
       "    }\n",
       "\n",
       "    .dataframe tbody tr th {\n",
       "        vertical-align: top;\n",
       "    }\n",
       "\n",
       "    .dataframe thead th {\n",
       "        text-align: right;\n",
       "    }\n",
       "</style>\n",
       "<table border=\"1\" class=\"dataframe\">\n",
       "  <thead>\n",
       "    <tr style=\"text-align: right;\">\n",
       "      <th></th>\n",
       "      <th>Name</th>\n",
       "      <th>DOB</th>\n",
       "      <th>SSN</th>\n",
       "      <th>Zip</th>\n",
       "      <th>Age</th>\n",
       "      <th>Workclass</th>\n",
       "      <th>fnlwgt</th>\n",
       "      <th>Education</th>\n",
       "      <th>Education-Num</th>\n",
       "      <th>Marital Status</th>\n",
       "      <th>Occupation</th>\n",
       "      <th>Relationship</th>\n",
       "      <th>Race</th>\n",
       "      <th>Sex</th>\n",
       "      <th>Capital Gain</th>\n",
       "      <th>Capital Loss</th>\n",
       "      <th>Hours per week</th>\n",
       "      <th>Country</th>\n",
       "      <th>Target</th>\n",
       "    </tr>\n",
       "  </thead>\n",
       "  <tbody>\n",
       "    <tr>\n",
       "      <th>0</th>\n",
       "      <td>Karrie Trusslove</td>\n",
       "      <td>9/7/1967</td>\n",
       "      <td>732-14-6110</td>\n",
       "      <td>64152</td>\n",
       "      <td>39</td>\n",
       "      <td>State-gov</td>\n",
       "      <td>77516</td>\n",
       "      <td>Bachelors</td>\n",
       "      <td>13</td>\n",
       "      <td>Never-married</td>\n",
       "      <td>Adm-clerical</td>\n",
       "      <td>Not-in-family</td>\n",
       "      <td>White</td>\n",
       "      <td>Male</td>\n",
       "      <td>2174</td>\n",
       "      <td>0</td>\n",
       "      <td>40</td>\n",
       "      <td>United-States</td>\n",
       "      <td>&lt;=50K</td>\n",
       "    </tr>\n",
       "    <tr>\n",
       "      <th>1</th>\n",
       "      <td>Brandise Tripony</td>\n",
       "      <td>6/7/1988</td>\n",
       "      <td>150-19-2766</td>\n",
       "      <td>61523</td>\n",
       "      <td>50</td>\n",
       "      <td>Self-emp-not-inc</td>\n",
       "      <td>83311</td>\n",
       "      <td>Bachelors</td>\n",
       "      <td>13</td>\n",
       "      <td>Married-civ-spouse</td>\n",
       "      <td>Exec-managerial</td>\n",
       "      <td>Husband</td>\n",
       "      <td>White</td>\n",
       "      <td>Male</td>\n",
       "      <td>0</td>\n",
       "      <td>0</td>\n",
       "      <td>13</td>\n",
       "      <td>United-States</td>\n",
       "      <td>&lt;=50K</td>\n",
       "    </tr>\n",
       "    <tr>\n",
       "      <th>2</th>\n",
       "      <td>Brenn McNeely</td>\n",
       "      <td>8/6/1991</td>\n",
       "      <td>725-59-9860</td>\n",
       "      <td>95668</td>\n",
       "      <td>38</td>\n",
       "      <td>Private</td>\n",
       "      <td>215646</td>\n",
       "      <td>HS-grad</td>\n",
       "      <td>9</td>\n",
       "      <td>Divorced</td>\n",
       "      <td>Handlers-cleaners</td>\n",
       "      <td>Not-in-family</td>\n",
       "      <td>White</td>\n",
       "      <td>Male</td>\n",
       "      <td>0</td>\n",
       "      <td>0</td>\n",
       "      <td>40</td>\n",
       "      <td>United-States</td>\n",
       "      <td>&lt;=50K</td>\n",
       "    </tr>\n",
       "    <tr>\n",
       "      <th>3</th>\n",
       "      <td>Dorry Poter</td>\n",
       "      <td>4/6/2009</td>\n",
       "      <td>659-57-4974</td>\n",
       "      <td>25503</td>\n",
       "      <td>53</td>\n",
       "      <td>Private</td>\n",
       "      <td>234721</td>\n",
       "      <td>11th</td>\n",
       "      <td>7</td>\n",
       "      <td>Married-civ-spouse</td>\n",
       "      <td>Handlers-cleaners</td>\n",
       "      <td>Husband</td>\n",
       "      <td>Black</td>\n",
       "      <td>Male</td>\n",
       "      <td>0</td>\n",
       "      <td>0</td>\n",
       "      <td>40</td>\n",
       "      <td>United-States</td>\n",
       "      <td>&lt;=50K</td>\n",
       "    </tr>\n",
       "    <tr>\n",
       "      <th>4</th>\n",
       "      <td>Dick Honnan</td>\n",
       "      <td>9/16/1951</td>\n",
       "      <td>220-93-3811</td>\n",
       "      <td>75387</td>\n",
       "      <td>28</td>\n",
       "      <td>Private</td>\n",
       "      <td>338409</td>\n",
       "      <td>Bachelors</td>\n",
       "      <td>13</td>\n",
       "      <td>Married-civ-spouse</td>\n",
       "      <td>Prof-specialty</td>\n",
       "      <td>Wife</td>\n",
       "      <td>Black</td>\n",
       "      <td>Female</td>\n",
       "      <td>0</td>\n",
       "      <td>0</td>\n",
       "      <td>40</td>\n",
       "      <td>Cuba</td>\n",
       "      <td>&lt;=50K</td>\n",
       "    </tr>\n",
       "  </tbody>\n",
       "</table>\n",
       "</div>"
      ],
      "text/plain": [
       "               Name        DOB          SSN    Zip  Age         Workclass  \\\n",
       "0  Karrie Trusslove   9/7/1967  732-14-6110  64152   39         State-gov   \n",
       "1  Brandise Tripony   6/7/1988  150-19-2766  61523   50  Self-emp-not-inc   \n",
       "2     Brenn McNeely   8/6/1991  725-59-9860  95668   38           Private   \n",
       "3       Dorry Poter   4/6/2009  659-57-4974  25503   53           Private   \n",
       "4       Dick Honnan  9/16/1951  220-93-3811  75387   28           Private   \n",
       "\n",
       "   fnlwgt  Education  Education-Num      Marital Status         Occupation  \\\n",
       "0   77516  Bachelors             13       Never-married       Adm-clerical   \n",
       "1   83311  Bachelors             13  Married-civ-spouse    Exec-managerial   \n",
       "2  215646    HS-grad              9            Divorced  Handlers-cleaners   \n",
       "3  234721       11th              7  Married-civ-spouse  Handlers-cleaners   \n",
       "4  338409  Bachelors             13  Married-civ-spouse     Prof-specialty   \n",
       "\n",
       "    Relationship   Race     Sex  Capital Gain  Capital Loss  Hours per week  \\\n",
       "0  Not-in-family  White    Male          2174             0              40   \n",
       "1        Husband  White    Male             0             0              13   \n",
       "2  Not-in-family  White    Male             0             0              40   \n",
       "3        Husband  Black    Male             0             0              40   \n",
       "4           Wife  Black  Female             0             0              40   \n",
       "\n",
       "         Country Target  \n",
       "0  United-States  <=50K  \n",
       "1  United-States  <=50K  \n",
       "2  United-States  <=50K  \n",
       "3  United-States  <=50K  \n",
       "4           Cuba  <=50K  "
      ]
     },
     "execution_count": 11,
     "metadata": {},
     "output_type": "execute_result"
    }
   ],
   "source": [
    "adult = pd.read_csv(\"adult_with_pii.csv\")\n",
    "adult.head()"
   ]
  },
  {
   "cell_type": "markdown",
   "id": "f363bf21-c627-435c-a7a8-a73c07de40eb",
   "metadata": {},
   "source": [
    "去标识（De-identification）是指从数据集中删除标识信息的过程。有的地方会把去标识这一术语与匿名（Anonymization）和假名（Pseudonymization）这两个术语看作同义词，表达相同的概念。"
   ]
  },
  {
   "cell_type": "markdown",
   "id": "59b044c1-84b8-40cf-b0f4-71d7f3a5ba66",
   "metadata": {},
   "source": [
    "我们尚不能严谨地定义什么是标识信息。我们通常将标识信息理解为：在日常生活中可以唯一标识我们自己的信息。从这个理解角度看，姓名、地址、电话号码、电子邮箱等都属于标识信息。我们稍后将会了解到，不可能为标识信息给出严谨的定义，因为所有信息都可以用来标识个体。一般来说，个人标识信息（Personally Identifiable Information，PII）和标识信息这两个术语是同义词，表达相同的概念。\n",
    "\n",
    "我们如何才能对信息去标识呢？很简单，我们直接移除包含标识信息的列就好了"
   ]
  },
  {
   "cell_type": "code",
   "execution_count": 12,
   "id": "b356a6d0-a835-45c7-8b25-ea199a1b4c52",
   "metadata": {},
   "outputs": [
    {
     "data": {
      "text/html": [
       "<div>\n",
       "<style scoped>\n",
       "    .dataframe tbody tr th:only-of-type {\n",
       "        vertical-align: middle;\n",
       "    }\n",
       "\n",
       "    .dataframe tbody tr th {\n",
       "        vertical-align: top;\n",
       "    }\n",
       "\n",
       "    .dataframe thead th {\n",
       "        text-align: right;\n",
       "    }\n",
       "</style>\n",
       "<table border=\"1\" class=\"dataframe\">\n",
       "  <thead>\n",
       "    <tr style=\"text-align: right;\">\n",
       "      <th></th>\n",
       "      <th>DOB</th>\n",
       "      <th>Zip</th>\n",
       "      <th>Age</th>\n",
       "      <th>Workclass</th>\n",
       "      <th>fnlwgt</th>\n",
       "      <th>Education</th>\n",
       "      <th>Education-Num</th>\n",
       "      <th>Marital Status</th>\n",
       "      <th>Occupation</th>\n",
       "      <th>Relationship</th>\n",
       "      <th>Race</th>\n",
       "      <th>Sex</th>\n",
       "      <th>Capital Gain</th>\n",
       "      <th>Capital Loss</th>\n",
       "      <th>Hours per week</th>\n",
       "      <th>Country</th>\n",
       "      <th>Target</th>\n",
       "    </tr>\n",
       "  </thead>\n",
       "  <tbody>\n",
       "    <tr>\n",
       "      <th>0</th>\n",
       "      <td>9/7/1967</td>\n",
       "      <td>64152</td>\n",
       "      <td>39</td>\n",
       "      <td>State-gov</td>\n",
       "      <td>77516</td>\n",
       "      <td>Bachelors</td>\n",
       "      <td>13</td>\n",
       "      <td>Never-married</td>\n",
       "      <td>Adm-clerical</td>\n",
       "      <td>Not-in-family</td>\n",
       "      <td>White</td>\n",
       "      <td>Male</td>\n",
       "      <td>2174</td>\n",
       "      <td>0</td>\n",
       "      <td>40</td>\n",
       "      <td>United-States</td>\n",
       "      <td>&lt;=50K</td>\n",
       "    </tr>\n",
       "  </tbody>\n",
       "</table>\n",
       "</div>"
      ],
      "text/plain": [
       "        DOB    Zip  Age  Workclass  fnlwgt  Education  Education-Num  \\\n",
       "0  9/7/1967  64152   39  State-gov   77516  Bachelors             13   \n",
       "\n",
       "  Marital Status    Occupation   Relationship   Race   Sex  Capital Gain  \\\n",
       "0  Never-married  Adm-clerical  Not-in-family  White  Male          2174   \n",
       "\n",
       "   Capital Loss  Hours per week        Country Target  \n",
       "0             0              40  United-States  <=50K  "
      ]
     },
     "execution_count": 12,
     "metadata": {},
     "output_type": "execute_result"
    }
   ],
   "source": [
    "adult_data = adult.copy().drop(columns=['Name', 'SSN'])\n",
    "adult_pii = adult[['Name', 'SSN', 'DOB', 'Zip']]\n",
    "adult_data.head(1)"
   ]
  },
  {
   "cell_type": "markdown",
   "id": "6ea555a6-dff2-43c7-a2d7-b66f200961d3",
   "metadata": {},
   "source": [
    "关联攻击"
   ]
  },
  {
   "cell_type": "markdown",
   "id": "eb0b9875-4668-44d8-8146-e0cf22a41a97",
   "metadata": {},
   "source": [
    "假设现在要从刚刚得到的去标识数据中获取某个朋友的收入信息。去标识数据中的姓名一列已经被移除了，但现在碰巧知道能帮助我们标识出这位朋友的一些辅助信息。这个朋友叫凯莉·特鲁斯洛夫（Karrie Trusslove），我们知道凯莉的出生日期和邮政编码。\r\n",
    "可以\n",
    "我们尝试攻击的数已知们知道的一些辅助信息之间包含一些重然后我们将应用这些重叠列来实施一次简单的关联攻击（Linkage Attack）。在本例中，两个数据集都包含出生日期和邮政编码列。我们在尝试攻击的数据集中查找出能与凯莉的出生日期和邮政编码匹配上的行。数据库领域将此类匹配操作称为关联（JOIN）两个数。我们可以使用Pandas的merge函数实现此操作。如果我们只能检索到唯一一行数据，我们就从尝试攻击的数据集中找到了凯莉所属的行。"
   ]
  },
  {
   "cell_type": "code",
   "execution_count": 13,
   "id": "10c18133-f1a8-4d5b-9d3d-885fd64f193c",
   "metadata": {},
   "outputs": [
    {
     "data": {
      "text/html": [
       "<div>\n",
       "<style scoped>\n",
       "    .dataframe tbody tr th:only-of-type {\n",
       "        vertical-align: middle;\n",
       "    }\n",
       "\n",
       "    .dataframe tbody tr th {\n",
       "        vertical-align: top;\n",
       "    }\n",
       "\n",
       "    .dataframe thead th {\n",
       "        text-align: right;\n",
       "    }\n",
       "</style>\n",
       "<table border=\"1\" class=\"dataframe\">\n",
       "  <thead>\n",
       "    <tr style=\"text-align: right;\">\n",
       "      <th></th>\n",
       "      <th>Name</th>\n",
       "      <th>SSN</th>\n",
       "      <th>DOB</th>\n",
       "      <th>Zip</th>\n",
       "      <th>Age</th>\n",
       "      <th>Workclass</th>\n",
       "      <th>fnlwgt</th>\n",
       "      <th>Education</th>\n",
       "      <th>Education-Num</th>\n",
       "      <th>Marital Status</th>\n",
       "      <th>Occupation</th>\n",
       "      <th>Relationship</th>\n",
       "      <th>Race</th>\n",
       "      <th>Sex</th>\n",
       "      <th>Capital Gain</th>\n",
       "      <th>Capital Loss</th>\n",
       "      <th>Hours per week</th>\n",
       "      <th>Country</th>\n",
       "      <th>Target</th>\n",
       "    </tr>\n",
       "  </thead>\n",
       "  <tbody>\n",
       "    <tr>\n",
       "      <th>0</th>\n",
       "      <td>Karrie Trusslove</td>\n",
       "      <td>732-14-6110</td>\n",
       "      <td>9/7/1967</td>\n",
       "      <td>64152</td>\n",
       "      <td>39</td>\n",
       "      <td>State-gov</td>\n",
       "      <td>77516</td>\n",
       "      <td>Bachelors</td>\n",
       "      <td>13</td>\n",
       "      <td>Never-married</td>\n",
       "      <td>Adm-clerical</td>\n",
       "      <td>Not-in-family</td>\n",
       "      <td>White</td>\n",
       "      <td>Male</td>\n",
       "      <td>2174</td>\n",
       "      <td>0</td>\n",
       "      <td>40</td>\n",
       "      <td>United-States</td>\n",
       "      <td>&lt;=50K</td>\n",
       "    </tr>\n",
       "  </tbody>\n",
       "</table>\n",
       "</div>"
      ],
      "text/plain": [
       "               Name          SSN       DOB    Zip  Age  Workclass  fnlwgt  \\\n",
       "0  Karrie Trusslove  732-14-6110  9/7/1967  64152   39  State-gov   77516   \n",
       "\n",
       "   Education  Education-Num Marital Status    Occupation   Relationship  \\\n",
       "0  Bachelors             13  Never-married  Adm-clerical  Not-in-family   \n",
       "\n",
       "    Race   Sex  Capital Gain  Capital Loss  Hours per week        Country  \\\n",
       "0  White  Male          2174             0              40  United-States   \n",
       "\n",
       "  Target  \n",
       "0  <=50K  "
      ]
     },
     "execution_count": 13,
     "metadata": {},
     "output_type": "execute_result"
    }
   ],
   "source": [
    "karries_row = adult_pii[adult_pii['Name'] == 'Karrie Trusslove']\n",
    "pd.merge(karries_row, adult_data, left_on=['DOB', 'Zip'], right_on=['DOB', 'Zip'])"
   ]
  },
  {
   "cell_type": "markdown",
   "id": "ed8929f6-c74f-4f05-9e1b-8979e1152067",
   "metadata": {},
   "source": [
    "我们确实只找到了一行匹配上的数据。通过使用辅助数据，我们在去标识数据集中重标识出了一个个体。我们可以根据重标识攻击结果进一步推断出凯莉的收入小于5万美元。"
   ]
  },
  {
   "cell_type": "code",
   "execution_count": null,
   "id": "7c636045-0f1c-4b77-96f1-aa6066ebfcf5",
   "metadata": {},
   "outputs": [],
   "source": [
    "这是一个虚构的攻击场景，但在实际场景中实施关联攻击的难度也是出乎意料的低。事实证明，在绝大多数情况下，只需要一个数据点作为辅助信息就足以重标识出一行数据"
   ]
  },
  {
   "cell_type": "code",
   "execution_count": 14,
   "id": "f5476d63-8988-4f22-af6f-4a744ed47706",
   "metadata": {},
   "outputs": [
    {
     "data": {
      "text/html": [
       "<div>\n",
       "<style scoped>\n",
       "    .dataframe tbody tr th:only-of-type {\n",
       "        vertical-align: middle;\n",
       "    }\n",
       "\n",
       "    .dataframe tbody tr th {\n",
       "        vertical-align: top;\n",
       "    }\n",
       "\n",
       "    .dataframe thead th {\n",
       "        text-align: right;\n",
       "    }\n",
       "</style>\n",
       "<table border=\"1\" class=\"dataframe\">\n",
       "  <thead>\n",
       "    <tr style=\"text-align: right;\">\n",
       "      <th></th>\n",
       "      <th>Name</th>\n",
       "      <th>SSN</th>\n",
       "      <th>DOB_x</th>\n",
       "      <th>Zip</th>\n",
       "      <th>DOB_y</th>\n",
       "      <th>Age</th>\n",
       "      <th>Workclass</th>\n",
       "      <th>fnlwgt</th>\n",
       "      <th>Education</th>\n",
       "      <th>Education-Num</th>\n",
       "      <th>Marital Status</th>\n",
       "      <th>Occupation</th>\n",
       "      <th>Relationship</th>\n",
       "      <th>Race</th>\n",
       "      <th>Sex</th>\n",
       "      <th>Capital Gain</th>\n",
       "      <th>Capital Loss</th>\n",
       "      <th>Hours per week</th>\n",
       "      <th>Country</th>\n",
       "      <th>Target</th>\n",
       "    </tr>\n",
       "  </thead>\n",
       "  <tbody>\n",
       "    <tr>\n",
       "      <th>0</th>\n",
       "      <td>Karrie Trusslove</td>\n",
       "      <td>732-14-6110</td>\n",
       "      <td>9/7/1967</td>\n",
       "      <td>64152</td>\n",
       "      <td>9/7/1967</td>\n",
       "      <td>39</td>\n",
       "      <td>State-gov</td>\n",
       "      <td>77516</td>\n",
       "      <td>Bachelors</td>\n",
       "      <td>13</td>\n",
       "      <td>Never-married</td>\n",
       "      <td>Adm-clerical</td>\n",
       "      <td>Not-in-family</td>\n",
       "      <td>White</td>\n",
       "      <td>Male</td>\n",
       "      <td>2174</td>\n",
       "      <td>0</td>\n",
       "      <td>40</td>\n",
       "      <td>United-States</td>\n",
       "      <td>&lt;=50K</td>\n",
       "    </tr>\n",
       "  </tbody>\n",
       "</table>\n",
       "</div>"
      ],
      "text/plain": [
       "               Name          SSN     DOB_x    Zip     DOB_y  Age  Workclass  \\\n",
       "0  Karrie Trusslove  732-14-6110  9/7/1967  64152  9/7/1967   39  State-gov   \n",
       "\n",
       "   fnlwgt  Education  Education-Num Marital Status    Occupation  \\\n",
       "0   77516  Bachelors             13  Never-married  Adm-clerical   \n",
       "\n",
       "    Relationship   Race   Sex  Capital Gain  Capital Loss  Hours per week  \\\n",
       "0  Not-in-family  White  Male          2174             0              40   \n",
       "\n",
       "         Country Target  \n",
       "0  United-States  <=50K  "
      ]
     },
     "execution_count": 14,
     "metadata": {},
     "output_type": "execute_result"
    }
   ],
   "source": [
    "pd.merge(karries_row, adult_data, left_on=['Zip'], right_on=['Zip'])"
   ]
  },
  {
   "cell_type": "markdown",
   "id": "fab99dc0-8229-41ba-8bb2-1ccbdae5d9dc",
   "metadata": {},
   "source": [
    "邮政编码本身就足以重标识出凯莉了。那出生日期呢？"
   ]
  },
  {
   "cell_type": "code",
   "execution_count": 15,
   "id": "0118d4ec-e7a7-468f-af25-a866fa5c93c1",
   "metadata": {},
   "outputs": [
    {
     "data": {
      "text/html": [
       "<div>\n",
       "<style scoped>\n",
       "    .dataframe tbody tr th:only-of-type {\n",
       "        vertical-align: middle;\n",
       "    }\n",
       "\n",
       "    .dataframe tbody tr th {\n",
       "        vertical-align: top;\n",
       "    }\n",
       "\n",
       "    .dataframe thead th {\n",
       "        text-align: right;\n",
       "    }\n",
       "</style>\n",
       "<table border=\"1\" class=\"dataframe\">\n",
       "  <thead>\n",
       "    <tr style=\"text-align: right;\">\n",
       "      <th></th>\n",
       "      <th>Name</th>\n",
       "      <th>SSN</th>\n",
       "      <th>DOB</th>\n",
       "      <th>Zip_x</th>\n",
       "      <th>Zip_y</th>\n",
       "      <th>Age</th>\n",
       "      <th>Workclass</th>\n",
       "      <th>fnlwgt</th>\n",
       "      <th>Education</th>\n",
       "      <th>Education-Num</th>\n",
       "      <th>Marital Status</th>\n",
       "      <th>Occupation</th>\n",
       "      <th>Relationship</th>\n",
       "      <th>Race</th>\n",
       "      <th>Sex</th>\n",
       "      <th>Capital Gain</th>\n",
       "      <th>Capital Loss</th>\n",
       "      <th>Hours per week</th>\n",
       "      <th>Country</th>\n",
       "      <th>Target</th>\n",
       "    </tr>\n",
       "  </thead>\n",
       "  <tbody>\n",
       "    <tr>\n",
       "      <th>0</th>\n",
       "      <td>Karrie Trusslove</td>\n",
       "      <td>732-14-6110</td>\n",
       "      <td>9/7/1967</td>\n",
       "      <td>64152</td>\n",
       "      <td>64152</td>\n",
       "      <td>39</td>\n",
       "      <td>State-gov</td>\n",
       "      <td>77516</td>\n",
       "      <td>Bachelors</td>\n",
       "      <td>13</td>\n",
       "      <td>Never-married</td>\n",
       "      <td>Adm-clerical</td>\n",
       "      <td>Not-in-family</td>\n",
       "      <td>White</td>\n",
       "      <td>Male</td>\n",
       "      <td>2174</td>\n",
       "      <td>0</td>\n",
       "      <td>40</td>\n",
       "      <td>United-States</td>\n",
       "      <td>&lt;=50K</td>\n",
       "    </tr>\n",
       "    <tr>\n",
       "      <th>1</th>\n",
       "      <td>Karrie Trusslove</td>\n",
       "      <td>732-14-6110</td>\n",
       "      <td>9/7/1967</td>\n",
       "      <td>64152</td>\n",
       "      <td>67306</td>\n",
       "      <td>64</td>\n",
       "      <td>Private</td>\n",
       "      <td>171373</td>\n",
       "      <td>11th</td>\n",
       "      <td>7</td>\n",
       "      <td>Widowed</td>\n",
       "      <td>Farming-fishing</td>\n",
       "      <td>Unmarried</td>\n",
       "      <td>White</td>\n",
       "      <td>Female</td>\n",
       "      <td>0</td>\n",
       "      <td>0</td>\n",
       "      <td>40</td>\n",
       "      <td>United-States</td>\n",
       "      <td>&lt;=50K</td>\n",
       "    </tr>\n",
       "    <tr>\n",
       "      <th>2</th>\n",
       "      <td>Karrie Trusslove</td>\n",
       "      <td>732-14-6110</td>\n",
       "      <td>9/7/1967</td>\n",
       "      <td>64152</td>\n",
       "      <td>62254</td>\n",
       "      <td>46</td>\n",
       "      <td>Self-emp-not-inc</td>\n",
       "      <td>119944</td>\n",
       "      <td>Masters</td>\n",
       "      <td>14</td>\n",
       "      <td>Married-civ-spouse</td>\n",
       "      <td>Exec-managerial</td>\n",
       "      <td>Husband</td>\n",
       "      <td>White</td>\n",
       "      <td>Male</td>\n",
       "      <td>0</td>\n",
       "      <td>0</td>\n",
       "      <td>50</td>\n",
       "      <td>United-States</td>\n",
       "      <td>&gt;50K</td>\n",
       "    </tr>\n",
       "  </tbody>\n",
       "</table>\n",
       "</div>"
      ],
      "text/plain": [
       "               Name          SSN       DOB  Zip_x  Zip_y  Age  \\\n",
       "0  Karrie Trusslove  732-14-6110  9/7/1967  64152  64152   39   \n",
       "1  Karrie Trusslove  732-14-6110  9/7/1967  64152  67306   64   \n",
       "2  Karrie Trusslove  732-14-6110  9/7/1967  64152  62254   46   \n",
       "\n",
       "          Workclass  fnlwgt  Education  Education-Num      Marital Status  \\\n",
       "0         State-gov   77516  Bachelors             13       Never-married   \n",
       "1           Private  171373       11th              7             Widowed   \n",
       "2  Self-emp-not-inc  119944    Masters             14  Married-civ-spouse   \n",
       "\n",
       "        Occupation   Relationship   Race     Sex  Capital Gain  Capital Loss  \\\n",
       "0     Adm-clerical  Not-in-family  White    Male          2174             0   \n",
       "1  Farming-fishing      Unmarried  White  Female             0             0   \n",
       "2  Exec-managerial        Husband  White    Male             0             0   \n",
       "\n",
       "   Hours per week        Country Target  \n",
       "0              40  United-States  <=50K  \n",
       "1              40  United-States  <=50K  \n",
       "2              50  United-States   >50K  "
      ]
     },
     "execution_count": 15,
     "metadata": {},
     "output_type": "execute_result"
    }
   ],
   "source": [
    "pd.merge(karries_row, adult_data, left_on=['DOB'], right_on=['DOB'])"
   ]
  },
  {
   "cell_type": "markdown",
   "id": "ad6e4f79-e5c9-4bf1-bf80-29bbbf27c30a",
   "metadata": {},
   "source": [
    "这一次返回了三行数据。我们不知道哪一行才是凯莉的数据。即便如此，我们仍然得到了很多信息！\n",
    "\n",
    "我们知道凯莉收入低于5万美元的概率是2/3。\n",
    "我们可以观察各行之前的差异，以确定哪些额外的辅助信息可以帮助我们进一步区分各行数据所属的个体。在本例中，性别、职业、婚姻状况都可以帮助我们进一步重标识出凯莉。"
   ]
  },
  {
   "cell_type": "markdown",
   "id": "858d195b-5f5b-4775-a06e-a6fe0ef23a74",
   "metadata": {},
   "source": [
    "在数据集中重标识出其他某个个体的难度有多大？重标识出凯莉这一特定的个体相对更难还是相对更简单呢？衡量此类攻击有效性的一个好方法是查看特定数据是否有较好的\"筛选效果\"：特定数据能否帮助我们更好地缩小目标个体所属行的范围。举个例子，数据集中拥有相同出生日期的人数多吗？\n",
    "\n",
    "在执行攻击前，我们可以先评估一下出生日期这一辅助数据会给我们带来多大的帮助。为此，我们可以查看数据集中包含\"唯一\"出生日期的个体数量。下面的直方图显示，绝大多数出生日期在数据集中仅出现了1次、2次或3次，有8个个体的出生日期信息是缺失的。这意味着出生日期的\"筛选效果\"相当不错。出生日期可以有效缩小个体所属行的范围。"
   ]
  },
  {
   "cell_type": "code",
   "execution_count": 17,
   "id": "1fdde144-8862-4abb-bb44-363bc9c330c2",
   "metadata": {},
   "outputs": [
    {
     "data": {
      "image/png": "[encoded data removed]",
      "text/plain": [
       "<Figure size 640x480 with 1 Axes>"
      ]
     },
     "metadata": {},
     "output_type": "display_data"
    }
   ],
   "source": [
    "adult_pii['DOB'].value_counts() .hist()\n",
    "plt.xlabel('Number of DOB')\n",
    "plt.ylabel('Number of occurrences');"
   ]
  },
  {
   "cell_type": "markdown",
   "id": "70de9543-b8c7-4d2a-9e63-260fab826610",
   "metadata": {},
   "source": [
    "可以利用相同的方法衡量邮政编码的筛选效果。这次的结果变得更夸张了：邮政编码在此数据集中的筛选效果非常好。几乎所有的邮政编码在此数据集中都只出现了一次。"
   ]
  },
  {
   "cell_type": "code",
   "execution_count": 18,
   "id": "de5a8dbe-7eca-432c-b17b-765934a1a4bc",
   "metadata": {},
   "outputs": [
    {
     "data": {
      "image/png": "[encoded data removed]",
      "text/plain": [
       "<Figure size 640x480 with 1 Axes>"
      ]
     },
     "metadata": {},
     "output_type": "display_data"
    }
   ],
   "source": [
    "adult_pii['Zip'].value_counts().hist()\n",
    "plt.xlabel('Number of ZIP codes')\n",
    "plt.ylabel('Number of occurrences');"
   ]
  },
  {
   "cell_type": "markdown",
   "id": "d3d6af5b-7eaa-4300-b24a-9a5fe09e71ba",
   "metadata": {},
   "source": [
    "我们可以在此数据集中重标识出多少个个体呢？我们可以使用我们的辅助信息来找到这个问题的答案！首先，让我们看看只有出生日期会发生什么。我们想知道辅助数据中的每个出生日期能帮助我们重标识出数据集中多少可能的身份。下面的直方图显示了每个可能身份的数量。在大约32000行数据中，我们可以唯一标识出近7000行数据，并将约10000行数据缩小至两个可能的身份。"
   ]
  },
  {
   "cell_type": "code",
   "execution_count": 19,
   "id": "ee6aa72f-e572-4565-804c-8d4a1a295b2d",
   "metadata": {},
   "outputs": [
    {
     "data": {
      "image/png": "[encoded data removed]",
      "text/plain": [
       "<Figure size 640x480 with 1 Axes>"
      ]
     },
     "metadata": {},
     "output_type": "display_data"
    }
   ],
   "source": [
    "attack = pd.merge(adult_pii, adult_data, left_on=['DOB'], right_on=['DOB'])\n",
    "attack['Name'].value_counts().hist();"
   ]
  },
  {
   "cell_type": "markdown",
   "id": "8f212e5b-d30c-469a-81af-3ff320b78798",
   "metadata": {},
   "source": [
    "因此，仅通过出生日期来重标识大多数个体是不太可行的。如果我们收集更多的信息，进一步缩小范围呢？如果我们同时使用出生日期和邮政编码作为辅助数据，则重标识效果会变得更好。实际上，我们基本能够对数据集中的全部数据成功实施重标识攻击。"
   ]
  },
  {
   "cell_type": "code",
   "execution_count": 20,
   "id": "c6962a5a-2058-4564-98e5-04d2863c0300",
   "metadata": {},
   "outputs": [
    {
     "data": {
      "image/png": "[encoded data removed]",
      "text/plain": [
       "<Figure size 640x480 with 1 Axes>"
      ]
     },
     "metadata": {},
     "output_type": "display_data"
    }
   ],
   "source": [
    "attack = pd.merge(adult_pii, adult_data, left_on=['DOB', 'Zip'], right_on=['DOB', 'Zip'])\n",
    "attack['Name'].value_counts().hist();"
   ]
  },
  {
   "cell_type": "markdown",
   "id": "e4410274-3a6e-4bef-a75b-4ec035e273ed",
   "metadata": {},
   "source": [
    "当我们同时使用两部分信息实施重标识攻击时，我们可以重标识出所有的个体。这是一个非常令人惊讶的实验结果，因为我们通常认为很多人的出生日期都相同，而很多人居住地所属的邮政编码也会相同。事实证明，组合使用这些信息会得到非常好的筛选效果。拉坦娅·斯威尼（Latanya Sweeney）的研究结果表明{cite}identifiability，组合使用出生日期、性别、邮政编码，可以唯一重标识出87%的美国公民。\n",
    "\n",
    "我们来验证一下是否真的能重标识出所有的个体。我们打印出每个身份可能关联到的数据记录数量。"
   ]
  },
  {
   "cell_type": "code",
   "execution_count": 21,
   "id": "93ad2732-9efb-43ee-bffb-40b32c87473a",
   "metadata": {},
   "outputs": [
    {
     "data": {
      "text/plain": [
       "Name\n",
       "Barnabe Haime       2\n",
       "Antonin Chittem     2\n",
       "Karrie Trusslove    1\n",
       "Renault Hylden      1\n",
       "Nerty Matashkin     1\n",
       "Name: count, dtype: int64"
      ]
     },
     "execution_count": 21,
     "metadata": {},
     "output_type": "execute_result"
    }
   ],
   "source": [
    "attack['Name'].value_counts().head()"
   ]
  },
  {
   "cell_type": "markdown",
   "id": "d04dfae6-a17d-49e0-ac75-3e8ddc82292c",
   "metadata": {},
   "source": [
    "看来有两个个体抵御了重标识攻击。换句话说，在这个数据集中，只有两个个体同时拥有相同的邮政编码和出生日期。"
   ]
  },
  {
   "cell_type": "markdown",
   "id": "7f081d65-9abf-44ce-90b9-7d2242c84f12",
   "metadata": {},
   "source": [
    "另一种防止隐私信息泄露的方法是只发布聚合（Aggregate）数据。"
   ]
  },
  {
   "cell_type": "code",
   "execution_count": 22,
   "id": "0d7d36e7-6aa7-4819-9b02-52bbb12b39e4",
   "metadata": {},
   "outputs": [
    {
     "data": {
      "text/plain": [
       "38.58164675532078"
      ]
     },
     "execution_count": 22,
     "metadata": {},
     "output_type": "execute_result"
    }
   ],
   "source": [
    "adult['Age'].mean()"
   ]
  },
  {
   "cell_type": "markdown",
   "id": "00179f91-ee92-4364-8887-17db184b3c83",
   "metadata": {},
   "source": [
    "小群组问题\n",
    "在很多情况下，我们需要将数据分组，并分别给出各个分组的聚合统计结果。举例来说，我们可能想知道取得不同学位个体的平均年龄。"
   ]
  },
  {
   "cell_type": "code",
   "execution_count": 23,
   "id": "ca0fc338-6509-4e47-a4ce-c4ff70e67432",
   "metadata": {},
   "outputs": [
    {
     "data": {
      "text/html": [
       "<div>\n",
       "<style scoped>\n",
       "    .dataframe tbody tr th:only-of-type {\n",
       "        vertical-align: middle;\n",
       "    }\n",
       "\n",
       "    .dataframe tbody tr th {\n",
       "        vertical-align: top;\n",
       "    }\n",
       "\n",
       "    .dataframe thead th {\n",
       "        text-align: right;\n",
       "    }\n",
       "</style>\n",
       "<table border=\"1\" class=\"dataframe\">\n",
       "  <thead>\n",
       "    <tr style=\"text-align: right;\">\n",
       "      <th></th>\n",
       "      <th>Age</th>\n",
       "    </tr>\n",
       "    <tr>\n",
       "      <th>Education-Num</th>\n",
       "      <th></th>\n",
       "    </tr>\n",
       "  </thead>\n",
       "  <tbody>\n",
       "    <tr>\n",
       "      <th>1</th>\n",
       "      <td>42.764706</td>\n",
       "    </tr>\n",
       "    <tr>\n",
       "      <th>2</th>\n",
       "      <td>46.142857</td>\n",
       "    </tr>\n",
       "    <tr>\n",
       "      <th>3</th>\n",
       "      <td>42.885886</td>\n",
       "    </tr>\n",
       "  </tbody>\n",
       "</table>\n",
       "</div>"
      ],
      "text/plain": [
       "                     Age\n",
       "Education-Num           \n",
       "1              42.764706\n",
       "2              46.142857\n",
       "3              42.885886"
      ]
     },
     "execution_count": 23,
     "metadata": {},
     "output_type": "execute_result"
    }
   ],
   "source": [
    "adult[['Education-Num', 'Age']].groupby('Education-Num').mean().head(3)"
   ]
  },
  {
   "cell_type": "markdown",
   "id": "e4cab275-4cea-4ac8-9b91-7029f4385715",
   "metadata": {},
   "source": [
    "一般认为，对数据进行聚合处理可以提升数据的隐私保护效果，因为很难识别出特定个体对聚合统计结果所带来的影响。但如果某个分组只包含一个个体呢？在这种情况下，举个统计结果将准确泄露此个体的年龄，无法提供任何隐私保护！在我们的数据集中，大多数个体的邮政编码的唯一的。因此，如果我们计算不同邮政编码所属个体的平均年龄，则大多数\"平均值\"将直接泄露单一个体的年龄。"
   ]
  },
  {
   "cell_type": "code",
   "execution_count": 24,
   "id": "13efa388-1cba-4a0d-bda2-4e28b2280479",
   "metadata": {},
   "outputs": [
    {
     "data": {
      "text/html": [
       "<div>\n",
       "<style scoped>\n",
       "    .dataframe tbody tr th:only-of-type {\n",
       "        vertical-align: middle;\n",
       "    }\n",
       "\n",
       "    .dataframe tbody tr th {\n",
       "        vertical-align: top;\n",
       "    }\n",
       "\n",
       "    .dataframe thead th {\n",
       "        text-align: right;\n",
       "    }\n",
       "</style>\n",
       "<table border=\"1\" class=\"dataframe\">\n",
       "  <thead>\n",
       "    <tr style=\"text-align: right;\">\n",
       "      <th></th>\n",
       "      <th>Age</th>\n",
       "    </tr>\n",
       "    <tr>\n",
       "      <th>Zip</th>\n",
       "      <th></th>\n",
       "    </tr>\n",
       "  </thead>\n",
       "  <tbody>\n",
       "    <tr>\n",
       "      <th>4</th>\n",
       "      <td>55.0</td>\n",
       "    </tr>\n",
       "    <tr>\n",
       "      <th>12</th>\n",
       "      <td>24.0</td>\n",
       "    </tr>\n",
       "    <tr>\n",
       "      <th>16</th>\n",
       "      <td>59.0</td>\n",
       "    </tr>\n",
       "    <tr>\n",
       "      <th>17</th>\n",
       "      <td>42.0</td>\n",
       "    </tr>\n",
       "    <tr>\n",
       "      <th>18</th>\n",
       "      <td>24.0</td>\n",
       "    </tr>\n",
       "  </tbody>\n",
       "</table>\n",
       "</div>"
      ],
      "text/plain": [
       "      Age\n",
       "Zip      \n",
       "4    55.0\n",
       "12   24.0\n",
       "16   59.0\n",
       "17   42.0\n",
       "18   24.0"
      ]
     },
     "execution_count": 24,
     "metadata": {},
     "output_type": "execute_result"
    }
   ],
   "source": [
    "adult[['Zip', 'Age']].groupby('Zip').mean().head()"
   ]
  },
  {
   "cell_type": "markdown",
   "id": "3c0c3d2e-076d-4133-9c14-7e8532e15128",
   "metadata": {},
   "source": [
    "差分攻击\n",
    "当对相同的数据发布多个聚合统计结果时，隐私泄露问题会变得棘手。例如，考虑对数据集中某个大分组执行两次求和问询（第一个是对整个数据集进行问询，第二个是对除一条记录外的所有记录进行问询）："
   ]
  },
  {
   "cell_type": "code",
   "execution_count": 25,
   "id": "a33cdaea-3542-40a8-aa89-36cee49e04a2",
   "metadata": {},
   "outputs": [
    {
     "data": {
      "text/plain": [
       "1256257"
      ]
     },
     "execution_count": 25,
     "metadata": {},
     "output_type": "execute_result"
    }
   ],
   "source": [
    "adult['Age'].sum()"
   ]
  },
  {
   "cell_type": "code",
   "execution_count": 26,
   "id": "779e8a2f-1300-475f-8719-8d99462113a2",
   "metadata": {},
   "outputs": [
    {
     "data": {
      "text/plain": [
       "1256218"
      ]
     },
     "execution_count": 26,
     "metadata": {},
     "output_type": "execute_result"
    }
   ],
   "source": [
    "adult[adult['Name'] != 'Karrie Trusslove']['Age'].sum()"
   ]
  },
  {
   "cell_type": "markdown",
   "id": "cc8686de-4025-4334-a09f-eb6d976d0797",
   "metadata": {},
   "source": [
    "如果我们得到了这两个问询的回答，我们可以简单地对结果求减法，从而准确获得凯莉的年龄！即使在非常大的分组下发布聚合统计结果，我们仍然可以实施这一攻击。"
   ]
  },
  {
   "cell_type": "code",
   "execution_count": 27,
   "id": "b1726ec8-6d58-4ad5-8ce2-32f8c63d6348",
   "metadata": {},
   "outputs": [
    {
     "data": {
      "text/plain": [
       "39"
      ]
     },
     "execution_count": 27,
     "metadata": {},
     "output_type": "execute_result"
    }
   ],
   "source": [
    " adult['Age'].sum() - adult[adult['Name'] != 'Karrie Trusslove']['Age'].sum()"
   ]
  },
  {
   "cell_type": "code",
   "execution_count": null,
   "id": "8ebabf38-f675-4cbf-89aa-48beb3687092",
   "metadata": {},
   "outputs": [],
   "source": []
  }
 ],
 "metadata": {
  "kernelspec": {
   "display_name": "Python 3 (ipykernel)",
   "language": "python",
   "name": "python3"
  },
  "language_info": {
   "codemirror_mode": {
    "name": "ipython",
    "version": 3
   },
   "file_extension": ".py",
   "mimetype": "text/x-python",
   "name": "python",
   "nbconvert_exporter": "python",
   "pygments_lexer": "ipython3",
   "version": "3.11.7"
  }
 },
 "nbformat": 4,
 "nbformat_minor": 5
}
