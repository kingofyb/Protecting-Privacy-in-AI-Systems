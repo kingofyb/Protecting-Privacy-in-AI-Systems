{
 "cells": [
  {
   "cell_type": "markdown",
   "id": "72bccf65-7281-4f8a-b93c-78df263bc86b",
   "metadata": {},
   "source": [
    "k-匿名性"
   ]
  },
  {
   "cell_type": "markdown",
   "id": "612d98e1-2396-4782-9112-f67e008e0339",
   "metadata": {},
   "source": [
    "验证K-匿名性"
   ]
  },
  {
   "cell_type": "code",
   "execution_count": 1,
   "id": "cde70ad4-6113-4056-9b35-37a47291ec17",
   "metadata": {},
   "outputs": [],
   "source": [
    "import pandas as pd\n",
    "import numpy as np\n",
    "import matplotlib.pyplot as plt\n",
    "# plt.style.use('seaborn-whitegrid')\n",
    "plt.style.use('fivethirtyeight')"
   ]
  },
  {
   "cell_type": "code",
   "execution_count": 2,
   "id": "d4604c37-e827-4c9d-9388-cb3b51df6e0e",
   "metadata": {},
   "outputs": [],
   "source": [
    "raw_data = {\n",
    "    'first_name': ['Jason', 'Molly', 'Tina', 'Jake', 'Amy'], \n",
    "    'last_name': ['Miller', 'Jacobson', 'Ali', 'Milner', 'Cooze'], \n",
    "    'age': [42, 52, 36, 24, 73], \n",
    "    'preTestScore': [4, 24, 31, 2, 3],\n",
    "    'postTestScore': [25, 94, 57, 62, 70]}\n",
    "#df = pd.DataFrame(raw_data, columns = ['first_name', 'last_name', 'age', 'preTestScore', 'postTestScore'])\n",
    "df = pd.DataFrame(raw_data, columns = ['age', 'preTestScore', 'postTestScore'])"
   ]
  },
  {
   "cell_type": "code",
   "execution_count": 3,
   "id": "42a1fd98-8e2a-4646-8440-10de2379828c",
   "metadata": {},
   "outputs": [
    {
     "data": {
      "text/html": [
       "<div>\n",
       "<style scoped>\n",
       "    .dataframe tbody tr th:only-of-type {\n",
       "        vertical-align: middle;\n",
       "    }\n",
       "\n",
       "    .dataframe tbody tr th {\n",
       "        vertical-align: top;\n",
       "    }\n",
       "\n",
       "    .dataframe thead th {\n",
       "        text-align: right;\n",
       "    }\n",
       "</style>\n",
       "<table border=\"1\" class=\"dataframe\">\n",
       "  <thead>\n",
       "    <tr style=\"text-align: right;\">\n",
       "      <th></th>\n",
       "      <th>age</th>\n",
       "      <th>preTestScore</th>\n",
       "      <th>postTestScore</th>\n",
       "    </tr>\n",
       "  </thead>\n",
       "  <tbody>\n",
       "    <tr>\n",
       "      <th>0</th>\n",
       "      <td>42</td>\n",
       "      <td>4</td>\n",
       "      <td>25</td>\n",
       "    </tr>\n",
       "    <tr>\n",
       "      <th>1</th>\n",
       "      <td>52</td>\n",
       "      <td>24</td>\n",
       "      <td>94</td>\n",
       "    </tr>\n",
       "    <tr>\n",
       "      <th>2</th>\n",
       "      <td>36</td>\n",
       "      <td>31</td>\n",
       "      <td>57</td>\n",
       "    </tr>\n",
       "    <tr>\n",
       "      <th>3</th>\n",
       "      <td>24</td>\n",
       "      <td>2</td>\n",
       "      <td>62</td>\n",
       "    </tr>\n",
       "    <tr>\n",
       "      <th>4</th>\n",
       "      <td>73</td>\n",
       "      <td>3</td>\n",
       "      <td>70</td>\n",
       "    </tr>\n",
       "  </tbody>\n",
       "</table>\n",
       "</div>"
      ],
      "text/plain": [
       "   age  preTestScore  postTestScore\n",
       "0   42             4             25\n",
       "1   52            24             94\n",
       "2   36            31             57\n",
       "3   24             2             62\n",
       "4   73             3             70"
      ]
     },
     "execution_count": 3,
     "metadata": {},
     "output_type": "execute_result"
    }
   ],
   "source": [
    "df"
   ]
  },
  {
   "cell_type": "code",
   "execution_count": 4,
   "id": "bd0e4b5e-87c6-4018-8dd0-88080f63cc44",
   "metadata": {},
   "outputs": [],
   "source": [
    "def isKAnonymized(df, k):\n",
    "    for index, row in df.iterrows():\n",
    "        query = ' & '.join([f'{col} == {row[col]}' for col in df.columns])\n",
    "        rows = df.query(query)\n",
    "        if rows.shape[0] < k:\n",
    "            return False\n",
    "    return True"
   ]
  },
  {
   "cell_type": "code",
   "execution_count": 5,
   "id": "7e9a7731-b1d5-459c-b4ce-bb8d082d3a9a",
   "metadata": {},
   "outputs": [
    {
     "data": {
      "text/plain": [
       "True"
      ]
     },
     "execution_count": 5,
     "metadata": {},
     "output_type": "execute_result"
    }
   ],
   "source": [
    "isKAnonymized(df, 1)"
   ]
  },
  {
   "cell_type": "code",
   "execution_count": 6,
   "id": "37a802f0-6a7d-4740-a28c-bf3add61b419",
   "metadata": {},
   "outputs": [
    {
     "data": {
      "text/plain": [
       "False"
      ]
     },
     "execution_count": 6,
     "metadata": {},
     "output_type": "execute_result"
    }
   ],
   "source": [
    "isKAnonymized(df, 2)"
   ]
  },
  {
   "cell_type": "markdown",
   "id": "1543ed0b-94e1-4b6b-b60b-e37b48c76c34",
   "metadata": {},
   "source": [
    "泛化数据以满足K-匿名性"
   ]
  },
  {
   "cell_type": "code",
   "execution_count": 7,
   "id": "5c8cfe08-75ae-4d34-ab1d-5c059de5f1db",
   "metadata": {},
   "outputs": [],
   "source": [
    "def generalize(df, depths):\n",
    "    return df.apply(lambda x: x.apply(lambda y: int(int(y/(10**depths[x.name]))*(10**depths[x.name]))))"
   ]
  },
  {
   "cell_type": "code",
   "execution_count": 8,
   "id": "17fe0172-4a90-4400-82a9-0ee259bc96b1",
   "metadata": {},
   "outputs": [],
   "source": [
    "depths = {\n",
    "    'age': 1,\n",
    "    'preTestScore': 1,\n",
    "    'postTestScore': 1\n",
    "}\n",
    "df2 = generalize(df, depths)"
   ]
  },
  {
   "cell_type": "code",
   "execution_count": 9,
   "id": "dd1c4cc7-d85b-4d03-ace6-c101213ca96c",
   "metadata": {},
   "outputs": [
    {
     "data": {
      "text/html": [
       "<div>\n",
       "<style scoped>\n",
       "    .dataframe tbody tr th:only-of-type {\n",
       "        vertical-align: middle;\n",
       "    }\n",
       "\n",
       "    .dataframe tbody tr th {\n",
       "        vertical-align: top;\n",
       "    }\n",
       "\n",
       "    .dataframe thead th {\n",
       "        text-align: right;\n",
       "    }\n",
       "</style>\n",
       "<table border=\"1\" class=\"dataframe\">\n",
       "  <thead>\n",
       "    <tr style=\"text-align: right;\">\n",
       "      <th></th>\n",
       "      <th>age</th>\n",
       "      <th>preTestScore</th>\n",
       "      <th>postTestScore</th>\n",
       "    </tr>\n",
       "  </thead>\n",
       "  <tbody>\n",
       "    <tr>\n",
       "      <th>0</th>\n",
       "      <td>40</td>\n",
       "      <td>0</td>\n",
       "      <td>20</td>\n",
       "    </tr>\n",
       "    <tr>\n",
       "      <th>1</th>\n",
       "      <td>50</td>\n",
       "      <td>20</td>\n",
       "      <td>90</td>\n",
       "    </tr>\n",
       "    <tr>\n",
       "      <th>2</th>\n",
       "      <td>30</td>\n",
       "      <td>30</td>\n",
       "      <td>50</td>\n",
       "    </tr>\n",
       "    <tr>\n",
       "      <th>3</th>\n",
       "      <td>20</td>\n",
       "      <td>0</td>\n",
       "      <td>60</td>\n",
       "    </tr>\n",
       "    <tr>\n",
       "      <th>4</th>\n",
       "      <td>70</td>\n",
       "      <td>0</td>\n",
       "      <td>70</td>\n",
       "    </tr>\n",
       "  </tbody>\n",
       "</table>\n",
       "</div>"
      ],
      "text/plain": [
       "   age  preTestScore  postTestScore\n",
       "0   40             0             20\n",
       "1   50            20             90\n",
       "2   30            30             50\n",
       "3   20             0             60\n",
       "4   70             0             70"
      ]
     },
     "execution_count": 9,
     "metadata": {},
     "output_type": "execute_result"
    }
   ],
   "source": [
    "df2"
   ]
  },
  {
   "cell_type": "code",
   "execution_count": 10,
   "id": "62b5ba13-bab4-4051-bb9b-5c66463decd9",
   "metadata": {},
   "outputs": [
    {
     "data": {
      "text/plain": [
       "False"
      ]
     },
     "execution_count": 10,
     "metadata": {},
     "output_type": "execute_result"
    }
   ],
   "source": [
    "isKAnonymized(df2, 2)"
   ]
  },
  {
   "cell_type": "code",
   "execution_count": 11,
   "id": "f4ce64db-dc7f-4038-8737-b7aeff441a3b",
   "metadata": {},
   "outputs": [],
   "source": [
    "depths = {\n",
    "    'age': 2,\n",
    "    'preTestScore': 2,\n",
    "    'postTestScore': 2\n",
    "}"
   ]
  },
  {
   "cell_type": "code",
   "execution_count": 12,
   "id": "4e863d71-6d91-4b0a-ac99-72ed9ed22ba3",
   "metadata": {},
   "outputs": [
    {
     "data": {
      "text/html": [
       "<div>\n",
       "<style scoped>\n",
       "    .dataframe tbody tr th:only-of-type {\n",
       "        vertical-align: middle;\n",
       "    }\n",
       "\n",
       "    .dataframe tbody tr th {\n",
       "        vertical-align: top;\n",
       "    }\n",
       "\n",
       "    .dataframe thead th {\n",
       "        text-align: right;\n",
       "    }\n",
       "</style>\n",
       "<table border=\"1\" class=\"dataframe\">\n",
       "  <thead>\n",
       "    <tr style=\"text-align: right;\">\n",
       "      <th></th>\n",
       "      <th>age</th>\n",
       "      <th>preTestScore</th>\n",
       "      <th>postTestScore</th>\n",
       "    </tr>\n",
       "  </thead>\n",
       "  <tbody>\n",
       "    <tr>\n",
       "      <th>0</th>\n",
       "      <td>0</td>\n",
       "      <td>0</td>\n",
       "      <td>0</td>\n",
       "    </tr>\n",
       "    <tr>\n",
       "      <th>1</th>\n",
       "      <td>0</td>\n",
       "      <td>0</td>\n",
       "      <td>0</td>\n",
       "    </tr>\n",
       "    <tr>\n",
       "      <th>2</th>\n",
       "      <td>0</td>\n",
       "      <td>0</td>\n",
       "      <td>0</td>\n",
       "    </tr>\n",
       "    <tr>\n",
       "      <th>3</th>\n",
       "      <td>0</td>\n",
       "      <td>0</td>\n",
       "      <td>0</td>\n",
       "    </tr>\n",
       "    <tr>\n",
       "      <th>4</th>\n",
       "      <td>0</td>\n",
       "      <td>0</td>\n",
       "      <td>0</td>\n",
       "    </tr>\n",
       "  </tbody>\n",
       "</table>\n",
       "</div>"
      ],
      "text/plain": [
       "   age  preTestScore  postTestScore\n",
       "0    0             0              0\n",
       "1    0             0              0\n",
       "2    0             0              0\n",
       "3    0             0              0\n",
       "4    0             0              0"
      ]
     },
     "execution_count": 12,
     "metadata": {},
     "output_type": "execute_result"
    }
   ],
   "source": [
    "generalize(df, depths)"
   ]
  },
  {
   "cell_type": "markdown",
   "id": "733ef23c-8266-4fa1-b9cd-d3d8c6e1adfd",
   "metadata": {},
   "source": [
    "引入更多的数据可以减小泛化的影响吗？"
   ]
  },
  {
   "cell_type": "code",
   "execution_count": 13,
   "id": "8cee60c4-c839-41e1-afbf-637fe15b3955",
   "metadata": {},
   "outputs": [
    {
     "data": {
      "text/html": [
       "<div>\n",
       "<style scoped>\n",
       "    .dataframe tbody tr th:only-of-type {\n",
       "        vertical-align: middle;\n",
       "    }\n",
       "\n",
       "    .dataframe tbody tr th {\n",
       "        vertical-align: top;\n",
       "    }\n",
       "\n",
       "    .dataframe thead th {\n",
       "        text-align: right;\n",
       "    }\n",
       "</style>\n",
       "<table border=\"1\" class=\"dataframe\">\n",
       "  <thead>\n",
       "    <tr style=\"text-align: right;\">\n",
       "      <th></th>\n",
       "      <th>Name</th>\n",
       "      <th>DOB</th>\n",
       "      <th>SSN</th>\n",
       "      <th>Zip</th>\n",
       "      <th>Age</th>\n",
       "      <th>Workclass</th>\n",
       "      <th>fnlwgt</th>\n",
       "      <th>Education</th>\n",
       "      <th>Education-Num</th>\n",
       "      <th>Marital Status</th>\n",
       "      <th>Occupation</th>\n",
       "      <th>Relationship</th>\n",
       "      <th>Race</th>\n",
       "      <th>Sex</th>\n",
       "      <th>Capital Gain</th>\n",
       "      <th>Capital Loss</th>\n",
       "      <th>Hours per week</th>\n",
       "      <th>Country</th>\n",
       "      <th>Target</th>\n",
       "    </tr>\n",
       "  </thead>\n",
       "  <tbody>\n",
       "    <tr>\n",
       "      <th>0</th>\n",
       "      <td>Karrie Trusslove</td>\n",
       "      <td>9/7/1967</td>\n",
       "      <td>732-14-6110</td>\n",
       "      <td>64152</td>\n",
       "      <td>39</td>\n",
       "      <td>State-gov</td>\n",
       "      <td>77516</td>\n",
       "      <td>Bachelors</td>\n",
       "      <td>13</td>\n",
       "      <td>Never-married</td>\n",
       "      <td>Adm-clerical</td>\n",
       "      <td>Not-in-family</td>\n",
       "      <td>White</td>\n",
       "      <td>Male</td>\n",
       "      <td>2174</td>\n",
       "      <td>0</td>\n",
       "      <td>40</td>\n",
       "      <td>United-States</td>\n",
       "      <td>&lt;=50K</td>\n",
       "    </tr>\n",
       "    <tr>\n",
       "      <th>1</th>\n",
       "      <td>Brandise Tripony</td>\n",
       "      <td>6/7/1988</td>\n",
       "      <td>150-19-2766</td>\n",
       "      <td>61523</td>\n",
       "      <td>50</td>\n",
       "      <td>Self-emp-not-inc</td>\n",
       "      <td>83311</td>\n",
       "      <td>Bachelors</td>\n",
       "      <td>13</td>\n",
       "      <td>Married-civ-spouse</td>\n",
       "      <td>Exec-managerial</td>\n",
       "      <td>Husband</td>\n",
       "      <td>White</td>\n",
       "      <td>Male</td>\n",
       "      <td>0</td>\n",
       "      <td>0</td>\n",
       "      <td>13</td>\n",
       "      <td>United-States</td>\n",
       "      <td>&lt;=50K</td>\n",
       "    </tr>\n",
       "    <tr>\n",
       "      <th>2</th>\n",
       "      <td>Brenn McNeely</td>\n",
       "      <td>8/6/1991</td>\n",
       "      <td>725-59-9860</td>\n",
       "      <td>95668</td>\n",
       "      <td>38</td>\n",
       "      <td>Private</td>\n",
       "      <td>215646</td>\n",
       "      <td>HS-grad</td>\n",
       "      <td>9</td>\n",
       "      <td>Divorced</td>\n",
       "      <td>Handlers-cleaners</td>\n",
       "      <td>Not-in-family</td>\n",
       "      <td>White</td>\n",
       "      <td>Male</td>\n",
       "      <td>0</td>\n",
       "      <td>0</td>\n",
       "      <td>40</td>\n",
       "      <td>United-States</td>\n",
       "      <td>&lt;=50K</td>\n",
       "    </tr>\n",
       "    <tr>\n",
       "      <th>3</th>\n",
       "      <td>Dorry Poter</td>\n",
       "      <td>4/6/2009</td>\n",
       "      <td>659-57-4974</td>\n",
       "      <td>25503</td>\n",
       "      <td>53</td>\n",
       "      <td>Private</td>\n",
       "      <td>234721</td>\n",
       "      <td>11th</td>\n",
       "      <td>7</td>\n",
       "      <td>Married-civ-spouse</td>\n",
       "      <td>Handlers-cleaners</td>\n",
       "      <td>Husband</td>\n",
       "      <td>Black</td>\n",
       "      <td>Male</td>\n",
       "      <td>0</td>\n",
       "      <td>0</td>\n",
       "      <td>40</td>\n",
       "      <td>United-States</td>\n",
       "      <td>&lt;=50K</td>\n",
       "    </tr>\n",
       "    <tr>\n",
       "      <th>4</th>\n",
       "      <td>Dick Honnan</td>\n",
       "      <td>9/16/1951</td>\n",
       "      <td>220-93-3811</td>\n",
       "      <td>75387</td>\n",
       "      <td>28</td>\n",
       "      <td>Private</td>\n",
       "      <td>338409</td>\n",
       "      <td>Bachelors</td>\n",
       "      <td>13</td>\n",
       "      <td>Married-civ-spouse</td>\n",
       "      <td>Prof-specialty</td>\n",
       "      <td>Wife</td>\n",
       "      <td>Black</td>\n",
       "      <td>Female</td>\n",
       "      <td>0</td>\n",
       "      <td>0</td>\n",
       "      <td>40</td>\n",
       "      <td>Cuba</td>\n",
       "      <td>&lt;=50K</td>\n",
       "    </tr>\n",
       "  </tbody>\n",
       "</table>\n",
       "</div>"
      ],
      "text/plain": [
       "               Name        DOB          SSN    Zip  Age         Workclass  \\\n",
       "0  Karrie Trusslove   9/7/1967  732-14-6110  64152   39         State-gov   \n",
       "1  Brandise Tripony   6/7/1988  150-19-2766  61523   50  Self-emp-not-inc   \n",
       "2     Brenn McNeely   8/6/1991  725-59-9860  95668   38           Private   \n",
       "3       Dorry Poter   4/6/2009  659-57-4974  25503   53           Private   \n",
       "4       Dick Honnan  9/16/1951  220-93-3811  75387   28           Private   \n",
       "\n",
       "   fnlwgt  Education  Education-Num      Marital Status         Occupation  \\\n",
       "0   77516  Bachelors             13       Never-married       Adm-clerical   \n",
       "1   83311  Bachelors             13  Married-civ-spouse    Exec-managerial   \n",
       "2  215646    HS-grad              9            Divorced  Handlers-cleaners   \n",
       "3  234721       11th              7  Married-civ-spouse  Handlers-cleaners   \n",
       "4  338409  Bachelors             13  Married-civ-spouse     Prof-specialty   \n",
       "\n",
       "    Relationship   Race     Sex  Capital Gain  Capital Loss  Hours per week  \\\n",
       "0  Not-in-family  White    Male          2174             0              40   \n",
       "1        Husband  White    Male             0             0              13   \n",
       "2  Not-in-family  White    Male             0             0              40   \n",
       "3        Husband  Black    Male             0             0              40   \n",
       "4           Wife  Black  Female             0             0              40   \n",
       "\n",
       "         Country Target  \n",
       "0  United-States  <=50K  \n",
       "1  United-States  <=50K  \n",
       "2  United-States  <=50K  \n",
       "3  United-States  <=50K  \n",
       "4           Cuba  <=50K  "
      ]
     },
     "execution_count": 13,
     "metadata": {},
     "output_type": "execute_result"
    }
   ],
   "source": [
    "adult_data = pd.read_csv(\"adult_with_pii.csv\")\n",
    "adult_data.head()"
   ]
  },
  {
   "cell_type": "code",
   "execution_count": 14,
   "id": "39336dd7-8e1d-427f-b895-5f302cb53710",
   "metadata": {},
   "outputs": [
    {
     "data": {
      "text/plain": [
       "True"
      ]
     },
     "execution_count": 14,
     "metadata": {},
     "output_type": "execute_result"
    }
   ],
   "source": [
    "df = adult_data[['Age', 'Education-Num']]\n",
    "df.columns = ['age', 'edu']\n",
    "isKAnonymized(df.head(100), 1)"
   ]
  },
  {
   "cell_type": "code",
   "execution_count": 15,
   "id": "7c0231e7-5ce8-4d45-b075-5ca07372507b",
   "metadata": {},
   "outputs": [
    {
     "data": {
      "text/plain": [
       "False"
      ]
     },
     "execution_count": 15,
     "metadata": {},
     "output_type": "execute_result"
    }
   ],
   "source": [
    "isKAnonymized(df.head(100), 2)"
   ]
  },
  {
   "cell_type": "code",
   "execution_count": 16,
   "id": "53dcdf6c-e10c-4106-bc75-2ad536a853e8",
   "metadata": {},
   "outputs": [
    {
     "data": {
      "text/plain": [
       "False"
      ]
     },
     "execution_count": 16,
     "metadata": {},
     "output_type": "execute_result"
    }
   ],
   "source": [
    "# outliers are a real problem!\n",
    "depths = {\n",
    "    'age': 1,\n",
    "    'edu': 1\n",
    "}\n",
    "df2 = generalize(df.head(1000), depths)\n",
    "isKAnonymized(df2, 2)"
   ]
  },
  {
   "cell_type": "code",
   "execution_count": 17,
   "id": "8bf07b49-315d-41ec-82d7-a04b7fe2fd83",
   "metadata": {},
   "outputs": [
    {
     "data": {
      "image/png": "[encoded data removed]",
      "text/plain": [
       "<Figure size 640x480 with 1 Axes>"
      ]
     },
     "metadata": {},
     "output_type": "display_data"
    }
   ],
   "source": [
    "df2['age'].hist();"
   ]
  },
  {
   "cell_type": "code",
   "execution_count": 18,
   "id": "289d565c-428c-456c-86d3-859b67b09d6b",
   "metadata": {},
   "outputs": [
    {
     "data": {
      "text/plain": [
       "True"
      ]
     },
     "execution_count": 18,
     "metadata": {},
     "output_type": "execute_result"
    }
   ],
   "source": [
    "# 裁剪异常值\n",
    "depths = {\n",
    "    'age': 1,\n",
    "    'edu': 1\n",
    "}\n",
    "dfp = df.clip(upper=np.array([60, 10000000000000]), axis='columns')\n",
    "df2 = generalize(dfp.head(500), depths)\n",
    "isKAnonymized(df2, 7)"
   ]
  },
  {
   "cell_type": "code",
   "execution_count": null,
   "id": "48cbdfbc-47f9-4bb8-8541-b9ef54615784",
   "metadata": {},
   "outputs": [],
   "source": []
  }
 ],
 "metadata": {
  "kernelspec": {
   "display_name": "Python 3 (ipykernel)",
   "language": "python",
   "name": "python3"
  },
  "language_info": {
   "codemirror_mode": {
    "name": "ipython",
    "version": 3
   },
   "file_extension": ".py",
   "mimetype": "text/x-python",
   "name": "python",
   "nbconvert_exporter": "python",
   "pygments_lexer": "ipython3",
   "version": "3.11.7"
  }
 },
 "nbformat": 4,
 "nbformat_minor": 5
}
